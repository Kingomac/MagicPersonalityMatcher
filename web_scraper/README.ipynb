{
 "cells": [
  {
   "cell_type": "markdown",
   "id": "ab2baf67-9929-4ddb-9cce-01f39d0baa56",
   "metadata": {},
   "source": [
    "# Web Scraper"
   ]
  },
  {
   "cell_type": "markdown",
   "id": "eacfac56-035b-461a-a71d-68f628762923",
   "metadata": {},
   "source": [
    "Para obtener la información de las personalidades de las series vamos a hacer Web scraping sobre la página [Personality Database](https://www.personality-database.com/). Este notebook lo escribimos para explicar como hicimos la obtención de datos de las series, pero realmente lo ejecutamos en Docker usando el perfil de Docker Compose explicado en el manual de uso, decidimos hacerlo así porque al final se hace todo dentro de un bucle que contiene todo el código, por tanto no sería muy útil usar un notebook."
   ]
  },
  {
   "cell_type": "markdown",
   "id": "be4ff691-8661-4ad7-96c6-6bd643c46cef",
   "metadata": {},
   "source": [
    "Primero definimos los modelos de la información que vamos a guardar en la base de datos, para ello usamos el ORM de SQLAlchemy. Entonces definimos personajes y series:"
   ]
  },
  {
   "cell_type": "code",
   "execution_count": null,
   "id": "42bd2332-df4f-49e9-b5b1-1e294e8fc551",
   "metadata": {},
   "outputs": [],
   "source": [
    "from sqlalchemy import (\n",
    "    BigInteger,\n",
    "    String,\n",
    "    Boolean,\n",
    "    ForeignKey\n",
    ")\n",
    "from sqlalchemy.orm import mapped_column, relationship, Mapped\n",
    "from sqlalchemy.orm import DeclarativeBase\n",
    "\n",
    "class Base(DeclarativeBase):\n",
    "    pass\n",
    "\n",
    "class Character(Base):\n",
    "    __tablename__ = \"character\"\n",
    "    id: Mapped[int] = mapped_column(\n",
    "        BigInteger(), primary_key=True, autoincrement=True)\n",
    "    name: Mapped[str] = mapped_column(String(200), nullable=False)\n",
    "    image: Mapped[str] = mapped_column(String(200), nullable=False)\n",
    "    personality_ie: Mapped[bool] = mapped_column(\n",
    "        Boolean(), nullable=False)  # True = I, False = E\n",
    "    personality_sn: Mapped[bool] = mapped_column(\n",
    "        Boolean(), nullable=False)  # True = S, False = N\n",
    "    personality_tf: Mapped[bool] = mapped_column(\n",
    "        Boolean(), nullable=False)  # True = T, False = F\n",
    "    personality_jp: Mapped[bool] = mapped_column(\n",
    "        Boolean(), nullable=False)  # True = J, False = P\n",
    "    # Relationship one to many with serie (this is child)\n",
    "    serie_id: Mapped[int] = mapped_column(\n",
    "        ForeignKey(\"serie.id\", ondelete='SET NULL'), nullable=True)\n",
    "    serie: Mapped[\"Serie\"] = relationship(back_populates=\"characters\")\n",
    "\n",
    "    def __init__(self, name, image, serie, personality_str: str):\n",
    "        self.name = name\n",
    "        self.image = image\n",
    "        self.serie = serie\n",
    "        self.personality_ie = personality_str[0] == \"I\"\n",
    "        self.personality_sn = personality_str[1] == \"S\"\n",
    "        self.personality_tf = personality_str[2] == \"T\"\n",
    "        self.personality_jp = personality_str[3] == \"J\"\n",
    "\n",
    "class Serie(Base):\n",
    "    __tablename__ = 'serie'\n",
    "    id: Mapped[int] = mapped_column(\n",
    "        BigInteger(), primary_key=True, autoincrement=True)\n",
    "    name: Mapped[str] = mapped_column(String(200), nullable=False)\n",
    "    image: Mapped[str] = mapped_column(String(200), nullable=False)\n",
    "    # Relationship one to many with characters (this is parent)\n",
    "    characters: Mapped[List[\"Character\"]] = relationship(\n",
    "        back_populates=\"serie\", passive_deletes='all')"
   ]
  },
  {
   "cell_type": "markdown",
   "id": "e65f5576-a0c5-4338-96ef-9a3ecdad6a3a",
   "metadata": {},
   "source": [
    "Una vez definidos los modelos del ORM podemos definir cómo se van a guardar la información obtenida de la página."
   ]
  },
  {
   "cell_type": "code",
   "execution_count": null,
   "id": "df57cdaf-27a9-49c5-8678-8bed0ca00ace",
   "metadata": {},
   "outputs": [],
   "source": [
    "class ScrapedCharacter(TypedDict):\n",
    "    name: str\n",
    "    image: str\n",
    "    personality: Literal[\"ISTJ\", \"ISFJ\", \"INFJ\", \"INTJ\",\n",
    "                         \"ISTP\", \"ISFP\", \"INFP\", \"INTP\",\n",
    "                         \"ESTP\", \"ESFP\", \"ENFP\", \"ENTP\",\n",
    "                         \"ESTJ\", \"ESFJ\", \"ENFJ\", \"ENTJ\"]\n",
    "\n",
    "class ScrapedSerie(TypedDict):\n",
    "    name: str\n",
    "    image: str\n",
    "\n",
    "def personality_is_valid(personality: str) -> bool:\n",
    "    return personality in [\"ISTJ\", \"ISFJ\", \"INFJ\", \"INTJ\",\n",
    "                           \"ISTP\", \"ISFP\", \"INFP\", \"INTP\",\n",
    "                           \"ESTP\", \"ESFP\", \"ENFP\", \"ENTP\",\n",
    "                           \"ESTJ\", \"ESFJ\", \"ENFJ\", \"ENTJ\"]"
   ]
  },
  {
   "cell_type": "markdown",
   "id": "142f2c00-f317-4d1d-a229-037066cb074f",
   "metadata": {},
   "source": [
    "Definimos una función que guarde una serie con sus personajes en la base de datos"
   ]
  },
  {
   "cell_type": "code",
   "execution_count": null,
   "id": "11da7008-50f7-4a1f-9659-181513bd9cee",
   "metadata": {},
   "outputs": [],
   "source": [
    "def save_scraped(session: Session, scraped_serie: ScrapedSerie,\n",
    "                 scraped_characters: list[ScrapedCharacter]):\n",
    "    # Create Serie\n",
    "    serie = Serie(name=scraped_serie[\"name\"], image=scraped_serie[\"image\"])\n",
    "    session.add(serie)\n",
    "    # Create Characters and associate them with the serie\n",
    "    print(\"SCRAPED CHARACTERS: \", scraped_characters)\n",
    "    for x in scraped_characters:\n",
    "        character = Character(\n",
    "            name=x[\"name\"], image=x[\"image\"],\n",
    "            personality_str=x[\"personality\"], serie=serie)\n",
    "        session.add(character)\n",
    "    session.commit()"
   ]
  },
  {
   "cell_type": "markdown",
   "id": "dfc7e7b5-ddc0-4201-b9cb-176027bbb3d8",
   "metadata": {},
   "source": [
    "Se recorren los links a consultar, estos se leen de un fichero `links.txt` y se obtienen los datos de la web y se guardan en la base de datos"
   ]
  },
  {
   "cell_type": "code",
   "execution_count": null,
   "id": "bb490efb-e98d-4916-8ca8-b71a6a39c04d",
   "metadata": {},
   "outputs": [],
   "source": [
    "def scrape_to_db():\n",
    "    # Initialize database\n",
    "    engine = initialize_retry()\n",
    "    session = Session(bind=engine)\n",
    "    # Get series from links.txt\n",
    "    with open(\"web_scraper/links.txt\", \"r\") as f:\n",
    "        links = f.read().splitlines()\n",
    "    # Scrape each serie\n",
    "    for link in links:\n",
    "        scraped_serie, scraped_characters = scrape(link)\n",
    "        save_scraped(session, scraped_serie, scraped_characters)\n",
    "\n",
    "    session.close()"
   ]
  },
  {
   "cell_type": "markdown",
   "id": "2d6299c6-f36e-4a96-9366-1fc0ce7d696f",
   "metadata": {},
   "source": [
    "La función `scrape` realiza la conexión y la obtención de datos de una URL. Primero se configura el navegador a utilizar, en este caso Firefox, pero también se podría configurar Chrome, Safari o Edge. Luego declaramos una lista vacía que contenga los caracteres obtenidos y una variable que guarde los datos de la serie."
   ]
  },
  {
   "cell_type": "code",
   "execution_count": null,
   "id": "bd20584b-1f9e-4c0c-af50-54f5bbd0eba8",
   "metadata": {},
   "outputs": [],
   "source": [
    "from selenium import webdriver\n",
    "from selenium.webdriver.support.ui import WebDriverWait\n",
    "from selenium.webdriver.support import expected_conditions as EC\n",
    "from selenium.webdriver.common.by import By\n",
    "from selenium.common.exceptions import TimeoutException\n",
    "from selenium.webdriver import FirefoxOptions\n",
    "from .scraped_types import ScrapedCharacter\n",
    "from .scraped_types import ScrapedSerie, personality_is_valid\n",
    "\n",
    "def scrape(url: str):\n",
    "    # Use specified browser to open the url\n",
    "    options = FirefoxOptions()\n",
    "    options.add_argument(\"--headless\")\n",
    "    browser = webdriver.Firefox(options)\n",
    "    browser.get(url)\n",
    "    serie: ScrapedSerie = None\n",
    "    characters: list[ScrapedCharacter] = []"
   ]
  },
  {
   "cell_type": "markdown",
   "id": "04c8e1ea-50a2-4ccf-ba46-87849a9ee745",
   "metadata": {},
   "source": [
    "Usamos un bucle infinito porque se desconoce el número de páginas que se van a recorrer, entonces se recorrerá página por página hasta encontrar una vacía (la página al terminarse en contenido muestra una página vacía).\n",
    "\n",
    "El contenido de la página se carga mediante Javascript, entonces hay que indicar a Selenium que debe esperar un tiempo a que los elementos a buscar aparezcan.\n",
    "\n",
    "Luego se comienza obteniendo los datos de la serie, el título y su portada."
   ]
  },
  {
   "cell_type": "code",
   "execution_count": null,
   "id": "a9b7c911-2f9b-48ad-bb98-912759b519c5",
   "metadata": {},
   "outputs": [],
   "source": [
    " try:\n",
    "    page_number = 1\n",
    "    while True:\n",
    "        try:\n",
    "            # Get serie name\n",
    "            serie_name = (\n",
    "                WebDriverWait(browser, 10)\n",
    "                .until(\n",
    "                    EC.presence_of_element_located(\n",
    "                        (By.CLASS_NAME, \"community-title\")\n",
    "                    )\n",
    "                )\n",
    "                .text\n",
    "            )\n",
    "            # Get serie cover art image\n",
    "                cover_art = (\n",
    "                    WebDriverWait(browser, 10)\n",
    "                    .until(\n",
    "                        EC.presence_of_element_located(\n",
    "                            (By.CLASS_NAME, \"summary\")))\n",
    "                    .find_element(By.CLASS_NAME, \"avatar\")\n",
    "                    .find_element(By.TAG_NAME, \"img\")\n",
    "                    .get_attribute(\"src\")\n",
    "                )"
   ]
  },
  {
   "cell_type": "markdown",
   "id": "07bb72ba-8a82-4ef7-ab66-e72a70fbcc27",
   "metadata": {},
   "source": [
    "Se espera a que aparezcan las tarjetas con los personajes y su personalidad y se almacenan como `ScrapedCharacter`. Además, se comprueba que la personalidad sea válida, ya que puede ser que no la tengan y la marquen como \"XXXX\""
   ]
  },
  {
   "cell_type": "code",
   "execution_count": null,
   "id": "b228fb32-1fb5-4878-b73e-41929b87fd31",
   "metadata": {},
   "outputs": [],
   "source": [
    "                # Get all character profile cards\n",
    "                elements = WebDriverWait(browser, 10).until(\n",
    "                    EC.presence_of_all_elements_located(\n",
    "                        (By.CLASS_NAME, \"profile-card\"))\n",
    "                )\n",
    "                print(\"number of elements: \", len(elements))\n",
    "                # Iterate over all cards and get the information\n",
    "                for el in elements:\n",
    "                    character_name = el.find_element(\n",
    "                        By.CLASS_NAME, \"info-name\").text\n",
    "                    character_avatar = el.find_element(\n",
    "                        By.TAG_NAME, \"img\").get_attribute(\"src\")\n",
    "                    character_personality = el.find_element(\n",
    "                        By.CLASS_NAME, \"personality\").text\n",
    "                    # print(\"character: \", character_name,\n",
    "                    #      \" | avatar: \", character_avatar,\n",
    "                    #      \" | personality: \", character_personality)\n",
    "                    if personality_is_valid(character_personality):\n",
    "                        characters.append(ScrapedCharacter(\n",
    "                            name=character_name, image=character_avatar,\n",
    "                            personality=character_personality))\n"
   ]
  },
  {
   "cell_type": "markdown",
   "id": "f8d15093-4624-4ce4-99c4-fa81aa1218e6",
   "metadata": {},
   "source": [
    "Para pasar de página se obtienen los enlaces de los números de página y se busca el que tenga el número siguiente a la página actual, se hace click sobre él, se incrementa el contador de página, se espera que desaparezcan las tarjetas actuales y a que carguen las nuevas. Entonces se sale del bucle sobre los números de página y se va a la siguiente iteración del bucle principal. Este bucle seguirá hasta que al pasar a la siguiente página se produzca una excepción por esperar demasiado tiempo a que aparezcan las nuevas tarjetas."
   ]
  },
  {
   "cell_type": "code",
   "execution_count": null,
   "id": "ab8f3bf6-6349-4c8e-aad7-bca7826236c0",
   "metadata": {},
   "outputs": [],
   "source": [
    "  # Get pagination elements\n",
    "                pelements = WebDriverWait(browser, 10).until(\n",
    "                    EC.presence_of_all_elements_located(\n",
    "                        (By.CLASS_NAME, \"rc-pagination-item\")\n",
    "                    )\n",
    "                )\n",
    "                print(\"pagination elements: \", len(elements))\n",
    "                # Iterate over all pages and click on the next one if there's any\n",
    "                for el in pelements:\n",
    "                    print(\"page number checking: \", el.text)\n",
    "                    if page_number + 1 == int(el.text):\n",
    "                        el.click()\n",
    "                        page_number += 1\n",
    "                        print(\"waiting for staleness\")\n",
    "                        WebDriverWait(browser, 30).until(\n",
    "                            EC.staleness_of(elements[0])\n",
    "                        )\n",
    "                        print(\"waiting for clickable\")\n",
    "                        WebDriverWait(browser, 10).until(\n",
    "                            EC.element_to_be_clickable(\n",
    "                                (By.CLASS_NAME, \"profile-container\")\n",
    "                            )\n",
    "                        )\n",
    "                        print(50 * \"%\")\n",
    "                        print(\"page: \" + el.text)\n",
    "                        break\n",
    "            except TimeoutException as e:\n",
    "                print(\"No more entries: \" + e.strerror)\n",
    "                print(e.with_traceback())\n",
    "                break"
   ]
  },
  {
   "cell_type": "markdown",
   "id": "e3b2479e-9355-4986-bdd4-5a22288db39d",
   "metadata": {},
   "source": [
    "Una vez finalizado el bucle principal se cierra el navegador utilizado y se devuelve una tupla con los datos de la serie y la lista de personajes."
   ]
  },
  {
   "cell_type": "code",
   "execution_count": null,
   "id": "97b7a47f-b92a-4aae-954a-4ffe7c3bedf3",
   "metadata": {},
   "outputs": [],
   "source": [
    "    finally:\n",
    "        print(\"Scrape reached end\")\n",
    "        browser.quit()\n",
    "        print(\"serie: \", serie)\n",
    "        print(\"characters: \", characters)\n",
    "        return (serie, characters)"
   ]
  }
 ],
 "metadata": {
  "kernelspec": {
   "display_name": "Python 3 (ipykernel)",
   "language": "python",
   "name": "python3"
  },
  "language_info": {
   "codemirror_mode": {
    "name": "ipython",
    "version": 3
   },
   "file_extension": ".py",
   "mimetype": "text/x-python",
   "name": "python",
   "nbconvert_exporter": "python",
   "pygments_lexer": "ipython3",
   "version": "3.10.12"
  }
 },
 "nbformat": 4,
 "nbformat_minor": 5
}

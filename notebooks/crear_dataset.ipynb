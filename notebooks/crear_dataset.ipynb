{
 "cells": [
  {
   "cell_type": "markdown",
   "id": "78302de6-83f3-4ff0-b4b4-5d35eebc26ee",
   "metadata": {},
   "source": [
    "# Magic Personality Matcher - Creación de dataset\n",
    "\n",
    "Para usar como fuente encontramos varios datasets que podríamos usar y decidimos juntarlos todos para tener más datos, por si queremos ampliarla cantidad de datos usada para entrenamiento fácilmente.\n",
    "\n",
    "Los datasets usados son los siguientes:\n",
    "- [Twitter MBTI](https://www.kaggle.com/datasets/mazlumi/mbti-personality-type-twitter-dataset)\n",
    "- [MBTI 1](https://www.kaggle.com/datasets/datasnaek/mbti-type)\n",
    "- [MBTI 500](https://www.kaggle.com/datasets/zeyadkhalid/mbti-personality-types-500-dataset)"
   ]
  },
  {
   "cell_type": "markdown",
   "id": "f63b9b26-7401-4a6f-9552-fa5143c39f42",
   "metadata": {},
   "source": [
    "Primero cargamos los datasets con Pandas"
   ]
  },
  {
   "cell_type": "code",
   "execution_count": null,
   "id": "ee132e91-0833-4625-9533-aa6c86462806",
   "metadata": {},
   "outputs": [],
   "source": [
    "import pandas as pd\n",
    "\n",
    "# Read the csv file in\n",
    "dataset_twittermbti = pd.read_csv('twitter_MBTI.csv')\n",
    "dataset_mbti1 = pd.read_csv('mbti_1.csv')\n",
    "dataset_mbti500 = pd.read_csv('mbti_500.csv')\n",
    "\n",
    "# Print info\n",
    "print(\"Dataset Twitter MBTI\")\n",
    "print(dataset_twittermbti.head())\n",
    "print(dataset_twittermbti.shape)\n",
    "\n",
    "print(\"Dataset MBTI 1\")\n",
    "print(dataset_mbti1.head())\n",
    "print(dataset_mbti1.shape)\n",
    "\n",
    "print(\"Dataset MBTI 500\")\n",
    "print(dataset_mbti500.head())\n",
    "print(dataset_mbti500.shape)"
   ]
  },
  {
   "cell_type": "markdown",
   "id": "0c617795-076e-4394-9f38-b2808688d98d",
   "metadata": {},
   "source": [
    "Renombramos las columnas para que coincidan"
   ]
  },
  {
   "cell_type": "code",
   "execution_count": null,
   "id": "fb0fe464-0c8a-4244-a8aa-560d19f0c051",
   "metadata": {},
   "outputs": [],
   "source": [
    "# Rename columns\n",
    "dataset_twittermbti.rename(\n",
    "    columns={'label': 'personality', 'text': 'post'}, inplace=True)\n",
    "\n",
    "dataset_mbti1.rename(\n",
    "    columns={'type': 'personality', 'posts': 'post'}, inplace=True)\n",
    "\n",
    "dataset_mbti500.rename(\n",
    "    columns={'type': 'personality', 'posts': 'post'}, inplace=True)"
   ]
  },
  {
   "cell_type": "markdown",
   "id": "40045f12-0442-417a-9f89-8054a45d05fc",
   "metadata": {},
   "source": [
    "Concatenamos los 3 datasets y transformamos todas las personalidades a mayúsculas"
   ]
  },
  {
   "cell_type": "code",
   "execution_count": null,
   "id": "a7859725-1c01-4206-aa9e-f166cd484c72",
   "metadata": {},
   "outputs": [],
   "source": [
    "dataset_definitivo = pd.concat(\n",
    "    [dataset_twittermbti, dataset_mbti500, dataset_mbti1])\n",
    "\n",
    "dataset_definitivo['personality'] = dataset_definitivo['personality'].apply(\n",
    "    lambda x: x.upper())"
   ]
  },
  {
   "cell_type": "markdown",
   "id": "4b3fe025-06d0-4ebf-ace3-cb1d2c1c6fec",
   "metadata": {},
   "source": [
    "Por último guardamos el resultado"
   ]
  },
  {
   "cell_type": "code",
   "execution_count": null,
   "id": "e1fc21f2-6c7f-4b46-b80b-289596812404",
   "metadata": {},
   "outputs": [],
   "source": [
    "dataset_definitivo[['personality', 'post']].to_csv(\n",
    "    \"dataset_definitivo.csv\", index=False)\n",
    "\n",
    "print(\"Dataset Definitivo\")\n",
    "print(dataset_definitivo.shape)\n",
    "print(\"Head\")\n",
    "print(dataset_definitivo.head())\n",
    "print(\"Tail\")\n",
    "print(dataset_definitivo.tail())"
   ]
  }
 ],
 "metadata": {
  "kernelspec": {
   "display_name": "Python 3 (ipykernel)",
   "language": "python",
   "name": "python3"
  },
  "language_info": {
   "codemirror_mode": {
    "name": "ipython",
    "version": 3
   },
   "file_extension": ".py",
   "mimetype": "text/x-python",
   "name": "python",
   "nbconvert_exporter": "python",
   "pygments_lexer": "ipython3",
   "version": "3.10.12"
  }
 },
 "nbformat": 4,
 "nbformat_minor": 5
}

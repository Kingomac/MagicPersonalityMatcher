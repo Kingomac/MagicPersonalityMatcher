{
 "cells": [
  {
   "cell_type": "markdown",
   "metadata": {},
   "source": [
    "# Magic Personality Matcher\n",
    "\n",
    "## Grupo Onyrix\n",
    "\n",
    "> Mario Vila Comesaña, Jesús Guimeráns Cordeiro, Javier Veloso Boubeta y Tania Guijarro Villavicencio\n",
    "\n",
    "En este notebook se realiza:\n",
    "- Preprocesamiento\n",
    "- Entrenamiento\n",
    "- Estadísticas del modelo\n",
    "- Guardado del modelo\n",
    "- Pruebas: clasificación de textos según su personalidad\n",
    "- Valoraciones\n",
    "- Mejoras del modelo"
   ]
  },
  {
   "cell_type": "markdown",
   "metadata": {
    "id": "2qdVVlOGGWNX"
   },
   "source": [
    "# Preprocesamiento de datos\n",
    "\n",
    "Para evitar tener que preprocesar los datos cada vez que abrimos el Google Colab vamos a realizar tanto particionado de los datos como su preprocesamiento en este notebook aparte."
   ]
  },
  {
   "cell_type": "markdown",
   "metadata": {},
   "source": [
    "## Cargar el dataset\n",
    "\n",
    "Lo primero es cargar el dataset con Pandas y seleccionar la cantidad de filas que queremos usar:"
   ]
  },
  {
   "cell_type": "code",
   "execution_count": 13,
   "metadata": {
    "colab": {
     "base_uri": "https://localhost:8080/"
    },
    "id": "24a2l03s6PVk",
    "outputId": "94476243-85aa-46e5-805a-94eac9fbc952"
   },
   "outputs": [
    {
     "name": "stdout",
     "output_type": "stream",
     "text": [
      "1     2000\n",
      "2     2000\n",
      "3     2000\n",
      "4     2000\n",
      "5     2000\n",
      "6     2000\n",
      "7     2000\n",
      "8     2000\n",
      "9     2000\n",
      "10    2000\n",
      "11    2000\n",
      "12    2000\n",
      "13    2000\n",
      "14    2000\n",
      "15    2000\n",
      "16    2000\n",
      "Name: personality, dtype: int64\n"
     ]
    }
   ],
   "source": [
    "import pandas as pd\n",
    "\n",
    "df = pd.read_csv(\"dataset_definitivo.csv\")\n",
    "print(df['personality'].value_counts())"
   ]
  },
  {
   "cell_type": "markdown",
   "metadata": {},
   "source": [
    "## Filtrado de Stopwords, Tokenización y Stemming"
   ]
  },
  {
   "cell_type": "markdown",
   "metadata": {
    "id": "xpqMuv9eMDco"
   },
   "source": [
    "El preprocesamiento de texto se realiza usando las stopwords y el tokenizer de la librería de lenguaje natural de Python. Primero definimos las stopwords, que serán las de la librería de Python y las personalidades Myers-Briggs para evitar introducir sesgos, como que, si se menciona una personalidad, que esta no se tenga en cuenta para decidir la del autor. Luego se usa el PorterStemmer para obtener la “raíz” de las palabras. Entonces el resultado es una nueva columna que contiene los posts preprocesados."
   ]
  },
  {
   "cell_type": "code",
   "execution_count": 14,
   "metadata": {
    "colab": {
     "base_uri": "https://localhost:8080/",
     "height": 615
    },
    "id": "zpL_KohnCtQd",
    "outputId": "ea21a2ca-0eab-45a5-9841-b94a6db658c5"
   },
   "outputs": [
    {
     "name": "stderr",
     "output_type": "stream",
     "text": [
      "[nltk_data] Downloading package punkt to /home/mario/nltk_data...\n",
      "[nltk_data]   Package punkt is already up-to-date!\n",
      "[nltk_data] Downloading package stopwords to /home/mario/nltk_data...\n",
      "[nltk_data]   Package stopwords is already up-to-date!\n"
     ]
    },
    {
     "data": {
      "application/vnd.jupyter.widget-view+json": {
       "model_id": "3e23f8bc0c8d431bab6cb2cf547cac16",
       "version_major": 2,
       "version_minor": 0
      },
      "text/plain": [
       "  0%|          | 0/32000 [00:00<?, ?it/s]"
      ]
     },
     "metadata": {},
     "output_type": "display_data"
    },
    {
     "name": "stdout",
     "output_type": "stream",
     "text": [
      "1     2000\n",
      "2     2000\n",
      "3     2000\n",
      "4     2000\n",
      "5     2000\n",
      "6     2000\n",
      "7     2000\n",
      "8     2000\n",
      "9     2000\n",
      "10    2000\n",
      "11    2000\n",
      "12    2000\n",
      "13    2000\n",
      "14    2000\n",
      "15    2000\n",
      "16    2000\n",
      "Name: personality, dtype: int64\n"
     ]
    }
   ],
   "source": [
    "from nltk.tokenize import word_tokenize\n",
    "from nltk.corpus import stopwords\n",
    "from nltk.stem import PorterStemmer\n",
    "from tqdm.contrib.concurrent import process_map\n",
    "from tqdm import tqdm\n",
    "from multiprocessing import cpu_count\n",
    "import re\n",
    "\n",
    "import nltk\n",
    "nltk.download('punkt')\n",
    "nltk.download('stopwords')\n",
    "\n",
    "ps = PorterStemmer()\n",
    "\n",
    "\n",
    "STOPS = set(stopwords.words(\"english\"))\n",
    "CUSTOM_STOPS = set(['istj', 'isfj', 'infj', 'intj',\n",
    "                    'istp', 'isfp', 'infp', 'intp',\n",
    "                    'estp', 'esfp', 'enfp', 'entp',\n",
    "                    'estj', 'esfj', 'enfj', 'entj'])\n",
    "\n",
    "def process_text(post):\n",
    "    try:\n",
    "        post = post.lower()\n",
    "        post = re.sub('https?://[^\\s<>\"]+|www\\.[^\\s<>\"]+',' ',post) # filtrar links\n",
    "        post = re.sub('[0-9]+',' ',post) # filtrar numeros\n",
    "        post = re.sub('@[^\\s]+',' ',post) # filtrar menciones de Twitter\n",
    "        #post = re.sub('[^0-9a-z]',' ',post) # dejamos los carácteres especiales, pueden ser emojis con significado emocional\n",
    "        post = re.sub('[a-z]{1,2,3}', ' ', post) # filtrar monogramas, bigramas y trigramas\n",
    "        return \" \".join(\n",
    "            [ps.stem(w) for w in word_tokenize(post)\n",
    "             if not w in STOPS and w not in CUSTOM_STOPS])\n",
    "    except:\n",
    "        print(\"problem with: \", post)\n",
    "\n",
    "\n",
    "num_processes = cpu_count()\n",
    "\n",
    "df['processed_text'] = process_map(\n",
    "                    process_text, df['post'],\n",
    "                    max_workers=num_processes, chunksize=10)\n",
    "\n",
    "print(df['personality'].value_counts())"
   ]
  },
  {
   "cell_type": "markdown",
   "metadata": {},
   "source": [
    "## Selección de filas\n",
    "\n",
    "Eliminamos la columna de posts sin preprocesar para ahorrar memoria y las cadenas con entradas de menos de 10 carácteres."
   ]
  },
  {
   "cell_type": "code",
   "execution_count": 15,
   "metadata": {},
   "outputs": [
    {
     "name": "stdout",
     "output_type": "stream",
     "text": [
      "1     1910\n",
      "4     1910\n",
      "5     1910\n",
      "13    1909\n",
      "15    1906\n",
      "3     1904\n",
      "11    1898\n",
      "7     1897\n",
      "10    1896\n",
      "12    1894\n",
      "2     1886\n",
      "16    1877\n",
      "9     1867\n",
      "6     1857\n",
      "8     1850\n",
      "14    1846\n",
      "Name: personality, dtype: int64\n"
     ]
    }
   ],
   "source": [
    "# eliminar columna de posts sin preprocesar (ahorramos memoria)\n",
    "df.drop('post', axis=1, inplace=True)\n",
    "# eliminar entradas con cadenas pequeñas\n",
    "df = df[df['processed_text'].apply(lambda x: len(x) > 10)]\n",
    "print(df['personality'].value_counts())"
   ]
  },
  {
   "cell_type": "markdown",
   "metadata": {},
   "source": [
    "Ahora para tener unos datos equilibrados, aprovechando que tenemos tantos podemos seleccionar solo 5000 de cada tipo."
   ]
  },
  {
   "cell_type": "markdown",
   "metadata": {},
   "source": [
    "## División del dataset en entrenamiento, validación y test"
   ]
  },
  {
   "cell_type": "markdown",
   "metadata": {},
   "source": [
    "60% entrenamiento, 20% validación y 20% test"
   ]
  },
  {
   "cell_type": "code",
   "execution_count": 16,
   "metadata": {},
   "outputs": [
    {
     "name": "stdout",
     "output_type": "stream",
     "text": [
      "x_train: 18130\n",
      "x_test: 6044\n",
      "x_valid: 6043\n"
     ]
    }
   ],
   "source": [
    "from sklearn.model_selection import train_test_split\n",
    "\n",
    "x_train, x_test, y_train, y_test = train_test_split(df['processed_text'], df['personality'], test_size=0.4, random_state=42) \n",
    "x_valid, x_test, y_valid, y_test = train_test_split(x_test, y_test, test_size=0.5, random_state=42)\n",
    "\n",
    "print(f\"x_train: {len(x_train)}\")\n",
    "print(f\"x_test: {len(x_test)}\")\n",
    "print(f\"x_valid: {len(x_valid)}\")"
   ]
  },
  {
   "cell_type": "markdown",
   "metadata": {},
   "source": [
    "## Bag of Words"
   ]
  },
  {
   "cell_type": "code",
   "execution_count": 17,
   "metadata": {},
   "outputs": [
    {
     "name": "stdout",
     "output_type": "stream",
     "text": [
      "x_train bag of words:\n",
      "(18130, 18473)\n",
      "x_test bag of words:\n",
      "(6044, 18473)\n",
      "x_valid bag of words:\n",
      "(6043, 18473)\n"
     ]
    }
   ],
   "source": [
    "from sklearn.feature_extraction.text import TfidfVectorizer\n",
    "\n",
    "# Datos de entrenamiento\n",
    "bagOfWordsModel = TfidfVectorizer()\n",
    "x_train = bagOfWordsModel.fit_transform(x_train)\n",
    "print(\"x_train bag of words:\")\n",
    "print(x_train.shape)\n",
    "\n",
    "# Datos pruebas\n",
    "x_test = bagOfWordsModel.transform(x_test)\n",
    "print(\"x_test bag of words:\")\n",
    "print(x_test.shape)\n",
    "\n",
    "# Datos pruebas\n",
    "x_valid = bagOfWordsModel.transform(x_valid)\n",
    "print(\"x_valid bag of words:\")\n",
    "print(x_valid.shape)"
   ]
  },
  {
   "cell_type": "markdown",
   "metadata": {},
   "source": [
    "Como ya se ha aplicado el Bag of Words a todos los datos que vamos a usar se puede guardar en un fichero, que posteriormente usaremos para desplegar el modelo en el backend"
   ]
  },
  {
   "cell_type": "code",
   "execution_count": 6,
   "metadata": {},
   "outputs": [],
   "source": [
    "import joblib as jb\n",
    "\n",
    "jb.dump(bagOfWordsModel, \"bow.lzma\")\n",
    "del bagOfWordsModel"
   ]
  },
  {
   "cell_type": "markdown",
   "metadata": {},
   "source": [
    "## Reducción de dimensionalidad"
   ]
  },
  {
   "cell_type": "code",
   "execution_count": 18,
   "metadata": {},
   "outputs": [
    {
     "name": "stdout",
     "output_type": "stream",
     "text": [
      "(18130, 3000)\n"
     ]
    }
   ],
   "source": [
    "from sklearn.decomposition import TruncatedSVD\n",
    "\n",
    "svd = TruncatedSVD(n_components=3000, random_state=42)\n",
    "x_train = svd.fit_transform(x_train)\n",
    "\n",
    "print(x_train.shape)"
   ]
  },
  {
   "cell_type": "markdown",
   "metadata": {},
   "source": [
    "Se guarda la instancia de `svd` para usarla más tarde y se borra para ahorrar memoria. Esta instancia debe guardarse por recomendación de los desarralladores, que recomiendan usar la misma instancia para todas las transformaciones, ya que sino los resultados podrían ser inconsistentes."
   ]
  },
  {
   "cell_type": "code",
   "execution_count": 8,
   "metadata": {},
   "outputs": [],
   "source": [
    "import joblib as jb\n",
    "\n",
    "jb.dump(svd, \"svd.lzma\")\n",
    "del svd"
   ]
  },
  {
   "cell_type": "markdown",
   "metadata": {},
   "source": [
    "# Entrenamiento\n"
   ]
  },
  {
   "cell_type": "markdown",
   "metadata": {},
   "source": [
    "## Hiperparámetros\n",
    "\n",
    "Para obtener los mejores parámetros de entrenamiento se realizarán pruebas con distintos valores."
   ]
  },
  {
   "cell_type": "code",
   "execution_count": 9,
   "metadata": {},
   "outputs": [
    {
     "name": "stdout",
     "output_type": "stream",
     "text": [
      "Mejores hiperparámetros: {'learning_rate': 0.01, 'max_depth': 7, 'max_iter': 500}\n"
     ]
    }
   ],
   "source": [
    "from sklearn.ensemble import HistGradientBoostingClassifier\n",
    "from sklearn.model_selection import GridSearchCV\n",
    "\n",
    "param_grid = {\n",
    "    'learning_rate': [0.01, 0.1, 0.2],\n",
    "    'max_iter': [100, 300, 500],\n",
    "    'max_depth': [3, 5, 7]\n",
    "}\n",
    "\n",
    "model = HistGradientBoostingClassifier()\n",
    "grid_search = GridSearchCV(model, param_grid, cv=3, scoring='accuracy', n_jobs=2)\n",
    "grid_search.fit(x_train, y_train)\n",
    "\n",
    "best_params = grid_search.best_params_\n",
    "print(\"Mejores hiperparámetros:\", best_params)"
   ]
  },
  {
   "cell_type": "code",
   "execution_count": 10,
   "metadata": {},
   "outputs": [],
   "source": [
    "svd = jb.load(\"svd.lzma\")\n",
    "x_test = svd.transform(x_test)"
   ]
  },
  {
   "cell_type": "code",
   "execution_count": 11,
   "metadata": {},
   "outputs": [
    {
     "name": "stdout",
     "output_type": "stream",
     "text": [
      "              precision    recall  f1-score   support\n",
      "\n",
      "           1       0.19      0.19      0.19       355\n",
      "           2       0.29      0.21      0.25       405\n",
      "           3       0.18      0.21      0.19       364\n",
      "           4       0.18      0.23      0.20       392\n",
      "           5       0.13      0.14      0.13       399\n",
      "           6       0.18      0.18      0.18       382\n",
      "           7       0.18      0.14      0.16       388\n",
      "           8       0.14      0.11      0.13       390\n",
      "           9       0.16      0.17      0.17       373\n",
      "          10       0.15      0.19      0.17       362\n",
      "          11       0.13      0.16      0.15       382\n",
      "          12       0.20      0.20      0.20       384\n",
      "          13       0.18      0.17      0.17       378\n",
      "          14       0.30      0.17      0.22       383\n",
      "          15       0.17      0.19      0.18       349\n",
      "          16       0.13      0.15      0.14       358\n",
      "\n",
      "    accuracy                           0.18      6044\n",
      "   macro avg       0.18      0.18      0.18      6044\n",
      "weighted avg       0.18      0.18      0.18      6044\n",
      "\n"
     ]
    },
    {
     "data": {
      "image/png": "[encoded data removed]",
      "text/plain": [
       "<Figure size 640x480 with 2 Axes>"
      ]
     },
     "metadata": {},
     "output_type": "display_data"
    }
   ],
   "source": [
    "from sklearn.metrics import classification_report\n",
    "import matplotlib.pyplot as plt\n",
    "from sklearn.metrics import ConfusionMatrixDisplay\n",
    "\n",
    "model = grid_search.best_estimator_\n",
    "\n",
    "predictions = model.predict(x_test)\n",
    "print(classification_report(y_test,predictions))\n",
    "ConfusionMatrixDisplay.from_predictions(y_test,predictions,\n",
    "                                        include_values=False)\n",
    "plt.show()"
   ]
  },
  {
   "cell_type": "code",
   "execution_count": 12,
   "metadata": {},
   "outputs": [
    {
     "data": {
      "text/plain": [
       "['model.lzma']"
      ]
     },
     "execution_count": 12,
     "metadata": {},
     "output_type": "execute_result"
    }
   ],
   "source": [
    "import joblib as jb\n",
    "\n",
    "jb.dump(model, \"model.lzma\")"
   ]
  },
  {
   "cell_type": "markdown",
   "metadata": {},
   "source": [
    "# Ejemplo de predicciones"
   ]
  },
  {
   "cell_type": "markdown",
   "metadata": {},
   "source": [
    "Para hacer predicciones necesitamos los diccionarios para convertir personalidades a números y viceversa. Replicaremos este proceso en nuestro backend para usar el modelo en la interfaz web."
   ]
  },
  {
   "cell_type": "code",
   "execution_count": 1,
   "metadata": {},
   "outputs": [],
   "source": [
    "num_personality = {\n",
    "    1: 'ISTJ',\n",
    "    2: 'ISFJ',\n",
    "    3: 'INFJ',\n",
    "    4: 'INTJ',\n",
    "    5: 'ISTP',\n",
    "    6: 'ISFP',\n",
    "    7: 'INFP',\n",
    "    8: 'INTP',\n",
    "    9: 'ESTP',\n",
    "    10: 'ESFP',\n",
    "    11: 'ENFP',\n",
    "    12: 'ENTP',\n",
    "    13: 'ESTJ',\n",
    "    14: 'ESFJ',\n",
    "    15: 'ENFJ',\n",
    "    16: 'ENTJ'\n",
    "}\n",
    "personality_num = {\n",
    "    'ISTJ': 1,\n",
    "    'ISFJ': 2,\n",
    "    'INFJ': 3,\n",
    "    'INTJ': 4,\n",
    "    'ISTP': 5,\n",
    "    'ISFP': 6,\n",
    "    'INFP': 7,\n",
    "    'INTP': 8,\n",
    "    'ESTP': 9,\n",
    "    'ESFP': 10,\n",
    "    'ENFP': 11,\n",
    "    'ENTP': 12,\n",
    "    'ESTJ': 13,\n",
    "    'ESFJ': 14,\n",
    "    'ENFJ': 15,\n",
    "    'ENTJ': 16\n",
    "}\n"
   ]
  },
  {
   "cell_type": "markdown",
   "metadata": {},
   "source": [
    "Se cargan para el preprocesado el bag of words y la instancia de Truncated SVD, que por recomendación de los desarrolladores, para obtener resultados más consistentes conviene usar la misma instancia para realizar todas las reducciones de dimensionalidad. Y luego se carga el modelo entrenado, que se usará para hacer las predicciones."
   ]
  },
  {
   "cell_type": "code",
   "execution_count": 11,
   "metadata": {},
   "outputs": [
    {
     "name": "stderr",
     "output_type": "stream",
     "text": [
      "[nltk_data] Downloading package punkt to /home/mario/nltk_data...\n",
      "[nltk_data]   Package punkt is already up-to-date!\n",
      "[nltk_data] Downloading package stopwords to /home/mario/nltk_data...\n",
      "[nltk_data]   Package stopwords is already up-to-date!\n"
     ]
    }
   ],
   "source": [
    "import pandas as pd\n",
    "import joblib as jb\n",
    "from sklearn.feature_extraction.text import TfidfVectorizer\n",
    "from sklearn.decomposition import TruncatedSVD\n",
    "from sklearn.ensemble import HistGradientBoostingClassifier\n",
    "from tqdm.contrib.concurrent import process_map\n",
    "from nltk.stem import PorterStemmer\n",
    "import nltk\n",
    "from nltk.tokenize import word_tokenize\n",
    "from nltk.corpus import stopwords\n",
    "import re\n",
    "\n",
    "bow: TfidfVectorizer = jb.load(\"bow.lzma\")\n",
    "svd: TruncatedSVD = jb.load(\"svd.lzma\")\n",
    "model: HistGradientBoostingClassifier = jb.load(\"model.lzma\")\n",
    "\n",
    "nltk.download('punkt')\n",
    "nltk.download('stopwords')\n",
    "\n",
    "ps = PorterStemmer()\n",
    "\n",
    "\n",
    "STOPS = set(stopwords.words(\"english\"))\n",
    "CUSTOM_STOPS = set(['istj', 'isfj', 'infj', 'intj',\n",
    "                    'istp', 'isfp', 'infp', 'intp',\n",
    "                    'estp', 'esfp', 'enfp', 'entp',\n",
    "                    'estj', 'esfj', 'enfj', 'entj'])\n",
    "\n",
    "def process_text(post):\n",
    "    try:\n",
    "        post = post.lower()\n",
    "        post = re.sub('https?://[^\\s<>\"]+|www\\.[^\\s<>\"]+',' ',post) # filtrar links\n",
    "        post = re.sub('[0-9]+',' ',post) # filtrar numeros\n",
    "        post = re.sub('@[^\\s]+',' ',post) # filtrar menciones de Twitter\n",
    "        #post = re.sub('[^0-9a-z]',' ',post) # dejamos los carácteres especiales, pueden ser emojis con significado emocional\n",
    "        post = re.sub('[a-z]{1,2,3}', ' ', post) # filtrar monogramas, bigramas y trigramas\n",
    "        return \" \".join(\n",
    "            [ps.stem(w) for w in word_tokenize(post)\n",
    "             if not w in STOPS and w not in CUSTOM_STOPS])\n",
    "    except:\n",
    "        print(\"problem with: \", post)"
   ]
  },
  {
   "cell_type": "markdown",
   "metadata": {},
   "source": [
    "Para las pruebas hacemos un array con los textos `x_prueba`. Aplicamos el preprocesado con la función `process_text`, el bag of words y por último reducción de dimensionalidad con TruncatedSVD. Finalmente hacemos las predicciones sobre esas frases y convertirmos los resultados numéricos a etiquetas de Myers-Briggs usando el diccionario."
   ]
  },
  {
   "cell_type": "code",
   "execution_count": 12,
   "metadata": {},
   "outputs": [
    {
     "data": {
      "application/vnd.jupyter.widget-view+json": {
       "model_id": "f54f96a0d35c43baaffb4ce187855833",
       "version_major": 2,
       "version_minor": 0
      },
      "text/plain": [
       "  0%|          | 0/3 [00:00<?, ?it/s]"
      ]
     },
     "metadata": {},
     "output_type": "display_data"
    },
    {
     "name": "stdout",
     "output_type": "stream",
     "text": [
      "['seriou job , make winx club', 'gay , like eurovis', 'like playl leagu legend']\n",
      "['ENFJ', 'ESTP', 'ENFP']\n"
     ]
    }
   ],
   "source": [
    "import numpy as np\n",
    "x_prueba = [\n",
    "    'this is a serious job, we are not making it about the Winx Club',\n",
    "    'i am not gay, i only like eurovision',\n",
    "    'i like playling league of legends'\n",
    "]\n",
    "\n",
    "\n",
    "x_prueba = process_map(process_text, x_prueba)\n",
    "print(x_prueba)\n",
    "\n",
    "x_prueba = bow.transform(x_prueba)\n",
    "x_prueba = svd.transform(x_prueba)\n",
    "\n",
    "\n",
    "predictions = model.predict(x_prueba)\n",
    "print([num_personality[x] for x in predictions])"
   ]
  },
  {
   "cell_type": "markdown",
   "metadata": {},
   "source": [
    "# Sistema de valoraciones\n",
    "\n",
    "Investigamos como hacer un sistema capaz de aprender con las valoraciones enviadas por usuarios, para ello investigamos varios enfoques.\n",
    "\n",
    "1. Agregar nuevas entradas al modelo ya entrenado haciendo `model.fit(x_nuevos_datos)`, pero esto no funcionaría correctamente, ya que como los modelos que hemos probado se basan en árboles de decisión, las ramas creadas quedarían al final del árbol y por tanto prevalecerían las ramas creadas con los datos de entrenamiento. Además, podría provocarse overfitting, lo que empeoraría el desempeño del modelo.\n",
    "2. Volver al entrenar el modelo completo agregando cada vez más datos, esto supone un problema de escalabilidad, ya que la complejidad del modelo podría aumentar demasiado, creando así una situación de overifitting. También habría que tener en cuenta que los tiempos de entrenamiento aumentarían según aumenta la cantidad de datos.\n",
    "3. Usar un modelo de Active Learning, en concreto probamos [modAL](https://github.com/modAL-python/modAL). Esta librería ofrece algoritmos de selección de datos relevantes para entrenamiento, es decir, se filtrarían las valoraciones para usar solo las más relevantes para el modelo y este podría aprender de manera correcta sin necesidad de entrenarlo con todo el dataset inicial más las valoraciones. Sin embargo, obtuvimos problemas que no pudimos solucionar."
   ]
  },
  {
   "cell_type": "markdown",
   "metadata": {},
   "source": [
    "Dejamos aquí nuestro intento de usar [modAL](https://github.com/modAL-python/modAL) siguiendo su tutorial básico:"
   ]
  },
  {
   "cell_type": "code",
   "execution_count": 20,
   "metadata": {},
   "outputs": [
    {
     "data": {
      "application/vnd.jupyter.widget-view+json": {
       "model_id": "f93fb2f6538c4d1e869d793d649a5739",
       "version_major": 2,
       "version_minor": 0
      },
      "text/plain": [
       "  0%|          | 0/3 [00:00<?, ?it/s]"
      ]
     },
     "metadata": {},
     "output_type": "display_data"
    }
   ],
   "source": [
    "from modAL.models import ActiveLearner\n",
    "from sklearn.ensemble import HistGradientBoostingClassifier\n",
    "import numpy as np\n",
    "\n",
    "x_valoraciones = [\n",
    "    'this is a serious job, we are not making it about the Winx Club',\n",
    "    'i am not gay, i only like eurovision',\n",
    "    'i like playling league of legends'\n",
    "]\n",
    "\n",
    "x_valoraciones = process_map(process_text, x_valoraciones)\n",
    "x_valoraciones = bow.transform(x_valoraciones)\n",
    "x_valoraciones = svd.transform(x_valoraciones)\n",
    "\n",
    "y_valoraciones = ['ISTP', 'ENFJ', 'INTJ']\n",
    "\n",
    "y_valoraciones = np.array([ personality_num[x] for x in y_valoraciones ])\n",
    "\n",
    "learner = ActiveLearner(\n",
    "    estimator=HistGradientBoostingClassifier(),\n",
    "    X_training=x_train, y_training=y_train\n",
    ")\n"
   ]
  },
  {
   "cell_type": "code",
   "execution_count": 23,
   "metadata": {},
   "outputs": [
    {
     "name": "stdout",
     "output_type": "stream",
     "text": [
      "query_idx: [2]\n",
      "query_inst: [[ 0.11122351 -0.1208835   0.1673704  ...  0.00600348 -0.0124741\n",
      "   0.00161109]]\n",
      "y_valoraciones: [ 5 15  4]\n",
      "y_valoraciones seleccionadas: [4]\n"
     ]
    },
    {
     "ename": "TypeError",
     "evalue": "<class 'pandas.core.series.Series'> datatype is not supported",
     "output_type": "error",
     "traceback": [
      "\u001b[0;31m---------------------------------------------------------------------------\u001b[0m",
      "\u001b[0;31mTypeError\u001b[0m                                 Traceback (most recent call last)",
      "\u001b[1;32m/home/mario/Documentos/MagicPersonalityMatcher/notebooks/definitivo_con_valoraciones.ipynb Cell 38\u001b[0m line \u001b[0;36m8\n\u001b[1;32m      <a href='vscode-notebook-cell:/home/mario/Documentos/MagicPersonalityMatcher/notebooks/definitivo_con_valoraciones.ipynb#X54sZmlsZQ%3D%3D?line=4'>5</a>\u001b[0m \u001b[39mprint\u001b[39m(\u001b[39mf\u001b[39m\u001b[39m\"\u001b[39m\u001b[39my_valoraciones: \u001b[39m\u001b[39m{\u001b[39;00my_valoraciones\u001b[39m}\u001b[39;00m\u001b[39m\"\u001b[39m)\n\u001b[1;32m      <a href='vscode-notebook-cell:/home/mario/Documentos/MagicPersonalityMatcher/notebooks/definitivo_con_valoraciones.ipynb#X54sZmlsZQ%3D%3D?line=5'>6</a>\u001b[0m \u001b[39mprint\u001b[39m(\u001b[39mf\u001b[39m\u001b[39m\"\u001b[39m\u001b[39my_valoraciones seleccionadas: \u001b[39m\u001b[39m{\u001b[39;00my_valoraciones[query_idx]\u001b[39m}\u001b[39;00m\u001b[39m\"\u001b[39m)\n\u001b[0;32m----> <a href='vscode-notebook-cell:/home/mario/Documentos/MagicPersonalityMatcher/notebooks/definitivo_con_valoraciones.ipynb#X54sZmlsZQ%3D%3D?line=7'>8</a>\u001b[0m learner\u001b[39m.\u001b[39;49mteach(query_inst, y_valoraciones[query_idx])\n",
      "File \u001b[0;32m~/.local/lib/python3.10/site-packages/modAL/models/learners.py:175\u001b[0m, in \u001b[0;36mActiveLearner.teach\u001b[0;34m(self, X, y, bootstrap, only_new, **fit_kwargs)\u001b[0m\n\u001b[1;32m    161\u001b[0m \u001b[39m\u001b[39m\u001b[39m\"\"\"\u001b[39;00m\n\u001b[1;32m    162\u001b[0m \u001b[39mAdds X and y to the known training data and retrains the predictor with the augmented dataset.\u001b[39;00m\n\u001b[1;32m    163\u001b[0m \n\u001b[0;32m   (...)\u001b[0m\n\u001b[1;32m    172\u001b[0m \u001b[39m    **fit_kwargs: Keyword arguments to be passed to the fit method of the predictor.\u001b[39;00m\n\u001b[1;32m    173\u001b[0m \u001b[39m\"\"\"\u001b[39;00m\n\u001b[1;32m    174\u001b[0m \u001b[39mif\u001b[39;00m \u001b[39mnot\u001b[39;00m only_new:\n\u001b[0;32m--> 175\u001b[0m     \u001b[39mself\u001b[39;49m\u001b[39m.\u001b[39;49m_add_training_data(X, y)\n\u001b[1;32m    176\u001b[0m     \u001b[39mself\u001b[39m\u001b[39m.\u001b[39m_fit_to_known(bootstrap\u001b[39m=\u001b[39mbootstrap, \u001b[39m*\u001b[39m\u001b[39m*\u001b[39mfit_kwargs)\n\u001b[1;32m    177\u001b[0m \u001b[39melse\u001b[39;00m:\n",
      "File \u001b[0;32m~/.local/lib/python3.10/site-packages/modAL/models/learners.py:109\u001b[0m, in \u001b[0;36mActiveLearner._add_training_data\u001b[0;34m(self, X, y)\u001b[0m\n\u001b[1;32m    107\u001b[0m \u001b[39mtry\u001b[39;00m:\n\u001b[1;32m    108\u001b[0m     \u001b[39mself\u001b[39m\u001b[39m.\u001b[39mX_training \u001b[39m=\u001b[39m data_vstack((\u001b[39mself\u001b[39m\u001b[39m.\u001b[39mX_training, X))\n\u001b[0;32m--> 109\u001b[0m     \u001b[39mself\u001b[39m\u001b[39m.\u001b[39my_training \u001b[39m=\u001b[39m data_vstack((\u001b[39mself\u001b[39;49m\u001b[39m.\u001b[39;49my_training, y))\n\u001b[1;32m    110\u001b[0m \u001b[39mexcept\u001b[39;00m \u001b[39mValueError\u001b[39;00m:\n\u001b[1;32m    111\u001b[0m     \u001b[39mraise\u001b[39;00m \u001b[39mValueError\u001b[39;00m(\u001b[39m'\u001b[39m\u001b[39mthe dimensions of the new training data and label must\u001b[39m\u001b[39m'\u001b[39m\n\u001b[1;32m    112\u001b[0m                      \u001b[39m'\u001b[39m\u001b[39magree with the training data and labels provided so far\u001b[39m\u001b[39m'\u001b[39m)\n",
      "File \u001b[0;32m~/.local/lib/python3.10/site-packages/modAL/utils/data.py:41\u001b[0m, in \u001b[0;36mdata_vstack\u001b[0;34m(blocks)\u001b[0m\n\u001b[1;32m     38\u001b[0m \u001b[39mexcept\u001b[39;00m:\n\u001b[1;32m     39\u001b[0m     \u001b[39mpass\u001b[39;00m\n\u001b[0;32m---> 41\u001b[0m \u001b[39mraise\u001b[39;00m \u001b[39mTypeError\u001b[39;00m(\u001b[39m\"\u001b[39m\u001b[39m%s\u001b[39;00m\u001b[39m datatype is not supported\u001b[39m\u001b[39m\"\u001b[39m \u001b[39m%\u001b[39m \u001b[39mtype\u001b[39m(blocks[\u001b[39m0\u001b[39m]))\n",
      "\u001b[0;31mTypeError\u001b[0m: <class 'pandas.core.series.Series'> datatype is not supported"
     ]
    }
   ],
   "source": [
    "query_idx, query_inst = learner.query(x_valoraciones)\n",
    "\n",
    "print(f\"query_idx: {query_idx}\")\n",
    "print(f\"query_inst: {query_inst}\")\n",
    "print(f\"y_valoraciones: {y_valoraciones}\")\n",
    "print(f\"y_valoraciones seleccionadas: {y_valoraciones[query_idx]}\")\n",
    "\n",
    "learner.teach(query_inst, y_valoraciones[query_idx])"
   ]
  },
  {
   "cell_type": "markdown",
   "metadata": {},
   "source": [
    "No entendemos el error porque para las pruebas en ningún momento usamos Pandas, trabajamos solo con arrays de Numpy."
   ]
  },
  {
   "cell_type": "markdown",
   "metadata": {},
   "source": [
    "# ¿Cómo mejorar el modelo?\n",
    "\n",
    "El resultado del modelo es bastante pobre, eso se debe a multiples factores:\n",
    "\n",
    "1. Aunque tenemos una gran cantidad de datos, llegando a más de 1M de entradas, por limitaciones de tiempo y de hardware no podemos pasar de 150k, ya que la reducción de dimensionalidad con `TruncatedSVD`, aunque es más eficiente en memoria que `PCA`, dependiendo del número de componentes especificados puede llenar rápidamente la RAM.\n",
    "2. La clasificación es compleja, usamos una clasificación en 16 tipos de personalidad, lo que requiere trabajar con más datos y dificulta bastante el conseguir buenos resultados para todos los tipos.\n",
    "3. Pocos datos de algunos tipos, pese a tener tantas entradas, hay ciertas personalidades de las que falta información y esta desigualdad provoca imprecisión."
   ]
  },
  {
   "cell_type": "markdown",
   "metadata": {},
   "source": [
    "## Primer escenario de mejora - Mejor hardware\n",
    "\n",
    "Un primer posible escenario para mejorar sería realizar un entrenamiento con hardware más potente, especialmente RAM, que permita incluir en la reducción de dimensionalidad más componentes, buscando así un valor óptimo, que según nuestras pruebas con muestras de datos pequeñas sería alrededor de 5000 componentes. Y un modelo con más datos podría realizar en general mejores predicciones."
   ]
  },
  {
   "cell_type": "markdown",
   "metadata": {},
   "source": [
    "## Segundo escenario de mejora - Cambio de enfoque\n",
    "\n",
    "El problema de clasificación de las personalidades usando Myers-Briggs se puede abordar tratando cada rasgo de personalidad (introvertido/extrovertido, sensible/intuitivo, sentimental/pensativo, juicioso/perceptivo) por separado, clasificando los textos de forma binaria entre estos rasgos y combinarlos para obtener la personalidad completa. Por tanto, el resultado sería la combinación de 4 modelos, cada uno especializado en clasificación binaria de uno de los rasgos.\n",
    "\n",
    "También podríamos optar por tratar esto como un problema de regresión, es decir, que cada rasgo de personalidad sea una variable continua. Por ejemplo, podríamos pensar en el rato introvertido/extrovertido como una variable continua con valores entre -1 y 1, en la que -1 signifique 100% introvertido y 1 100% extrovertido. El resultado serían 4 modelos de regresión encargados de determinar un número entre -1 y 1 entre los valores de un rasgo de personalidad. Esto se podría presentar al usuario como su personalidad de Myers-Briggs con el añadido de un porcentaje asociado a cada rasgo, siendo por ejemplo que, un usuario pueda ser 67% extrovertido, 80% intuitivo, 52% sentimental y 90% juicioso."
   ]
  }
 ],
 "metadata": {
  "colab": {
   "provenance": []
  },
  "kernelspec": {
   "display_name": "Python 3 (ipykernel)",
   "language": "python",
   "name": "python3"
  },
  "language_info": {
   "codemirror_mode": {
    "name": "ipython",
    "version": 3
   },
   "file_extension": ".py",
   "mimetype": "text/x-python",
   "name": "python",
   "nbconvert_exporter": "python",
   "pygments_lexer": "ipython3",
   "version": "3.10.12"
  }
 },
 "nbformat": 4,
 "nbformat_minor": 4
}

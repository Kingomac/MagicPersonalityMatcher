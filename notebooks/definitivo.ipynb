{
 "cells": [
  {
   "cell_type": "markdown",
   "metadata": {
    "id": "2qdVVlOGGWNX"
   },
   "source": [
    "# Preprocesamiento de datos\n",
    "\n",
    "Para evitar tener que preprocesar los datos cada vez que abrimos el Google Colab vamos a realizar tanto particionado de los datos como su preprocesamiento en este notebook aparte."
   ]
  },
  {
   "cell_type": "markdown",
   "metadata": {},
   "source": [
    "## Cargar el dataset\n",
    "\n",
    "Lo primero es cargar el dataset con Pandas y seleccionar la cantidad de filas que queremos usar:"
   ]
  },
  {
   "cell_type": "code",
   "execution_count": 1,
   "metadata": {
    "colab": {
     "base_uri": "https://localhost:8080/"
    },
    "id": "24a2l03s6PVk",
    "outputId": "94476243-85aa-46e5-805a-94eac9fbc952"
   },
   "outputs": [
    {
     "name": "stdout",
     "output_type": "stream",
     "text": [
      "7     271107\n",
      "3     227906\n",
      "8     198143\n",
      "4     183628\n",
      "11    139942\n",
      "12    128444\n",
      "15     83261\n",
      "5      65455\n",
      "6      63511\n",
      "2      58852\n",
      "16     53388\n",
      "1      46791\n",
      "10     27698\n",
      "9      19894\n",
      "14     16627\n",
      "13     14381\n",
      "Name: personality, dtype: int64\n"
     ]
    }
   ],
   "source": [
    "import pandas as pd\n",
    "\n",
    "df = pd.read_csv(\"dataset_definitivo.csv\")\n",
    "print(df['personality'].value_counts())"
   ]
  },
  {
   "cell_type": "markdown",
   "metadata": {},
   "source": [
    "## Filtrado de Stopwords, Tokenización y Stemming"
   ]
  },
  {
   "cell_type": "markdown",
   "metadata": {
    "id": "xpqMuv9eMDco"
   },
   "source": [
    "El preprocesamiento de texto se realiza usando las stopwords y el tokenizer de la librería de lenguaje natural de Python. Primero definimos las stopwords, que serán las de la librería de Python y las personalidades Myers-Briggs para evitar introducir sesgos, como que, si se menciona una personalidad, que esta no se tenga en cuenta para decidir la del autor. Luego se usa el PorterStemmer para obtener la “raíz” de las palabras. Entonces el resultado es una nueva columna que contiene los posts preprocesados."
   ]
  },
  {
   "cell_type": "code",
   "execution_count": 2,
   "metadata": {
    "colab": {
     "base_uri": "https://localhost:8080/",
     "height": 615
    },
    "id": "zpL_KohnCtQd",
    "outputId": "ea21a2ca-0eab-45a5-9841-b94a6db658c5"
   },
   "outputs": [
    {
     "name": "stderr",
     "output_type": "stream",
     "text": [
      "[nltk_data] Downloading package punkt to /home/mario/nltk_data...\n",
      "[nltk_data]   Package punkt is already up-to-date!\n",
      "[nltk_data] Downloading package stopwords to /home/mario/nltk_data...\n",
      "[nltk_data]   Package stopwords is already up-to-date!\n"
     ]
    },
    {
     "data": {
      "application/vnd.jupyter.widget-view+json": {
       "model_id": "ea38af6d1ee0472c950f8186d1e94928",
       "version_major": 2,
       "version_minor": 0
      },
      "text/plain": [
       "  0%|          | 0/1599028 [00:00<?, ?it/s]"
      ]
     },
     "metadata": {},
     "output_type": "display_data"
    }
   ],
   "source": [
    "from nltk.tokenize import word_tokenize\n",
    "from nltk.corpus import stopwords\n",
    "from nltk.stem import PorterStemmer\n",
    "from tqdm.contrib.concurrent import process_map\n",
    "from tqdm import tqdm\n",
    "from multiprocessing import cpu_count\n",
    "import re\n",
    "\n",
    "import nltk\n",
    "nltk.download('punkt')\n",
    "nltk.download('stopwords')\n",
    "\n",
    "ps = PorterStemmer()\n",
    "\n",
    "\n",
    "STOPS = set(stopwords.words(\"english\"))\n",
    "CUSTOM_STOPS = set(['istj', 'isfj', 'infj', 'intj',\n",
    "                    'istp', 'isfp', 'infp', 'intp',\n",
    "                    'estp', 'esfp', 'enfp', 'entp',\n",
    "                    'estj', 'esfj', 'enfj', 'entj'])\n",
    "\n",
    "def process_text(post):\n",
    "    try:\n",
    "        post = post.lower()\n",
    "        post = re.sub('https?://[^\\s<>\"]+|www\\.[^\\s<>\"]+',' ',post) # filtrar links\n",
    "        post = re.sub('[0-9]+',' ',post) # filtrar numeros\n",
    "        post = re.sub('@[^\\s]+',' ',post) # filtrar menciones de Twitter\n",
    "        #post = re.sub('[^0-9a-z]',' ',post) # dejamos los carácteres especiales, pueden ser emojis con significado emocional\n",
    "        post = re.sub('[a-z]{1,2,3}', ' ', post) # filtrar monogramas, bigramas y trigramas\n",
    "        return \" \".join(\n",
    "            [ps.stem(w) for w in word_tokenize(post)\n",
    "             if not w in STOPS and w not in CUSTOM_STOPS])\n",
    "    except:\n",
    "        print(\"problem with: \", post)\n",
    "\n",
    "\n",
    "num_processes = cpu_count()\n",
    "\n",
    "df['processed_text'] = process_map(\n",
    "                    process_text, df['post'],\n",
    "                    max_workers=num_processes, chunksize=10)\n",
    "\n",
    "print(df['personality'].value_counts())"
   ]
  },
  {
   "cell_type": "markdown",
   "metadata": {},
   "source": [
    "## Selección de filas\n",
    "\n",
    "Eliminamos la columna de posts sin preprocesar para ahorrar memoria y las cadenas con entradas de menos de 6 carácteres."
   ]
  },
  {
   "cell_type": "code",
   "execution_count": null,
   "metadata": {},
   "outputs": [
    {
     "name": "stdout",
     "output_type": "stream",
     "text": [
      "7     249407\n",
      "3     211018\n",
      "8     183115\n",
      "4     171211\n",
      "11    128994\n",
      "12    117488\n",
      "15     75174\n",
      "5      58610\n",
      "6      57331\n",
      "2      53120\n",
      "16     48825\n",
      "1      42702\n",
      "10     24479\n",
      "9      18181\n",
      "14     15042\n",
      "13     13101\n",
      "Name: personality, dtype: int64\n"
     ]
    }
   ],
   "source": [
    "# eliminar columna de posts sin preprocesar (ahorramos memoria)\n",
    "df.drop('post', axis=1, inplace=True)\n",
    "# eliminar entradas con cadenas pequeñas\n",
    "df = df[df['processed_text'].apply(lambda x: len(x) > 5)]\n",
    "print(df['personality'].value_counts())"
   ]
  },
  {
   "cell_type": "markdown",
   "metadata": {},
   "source": [
    "Ahora para tener unos datos equilibrados, aprovechando que tenemos tantos podemos seleccionar solo 5000 de cada tipo."
   ]
  },
  {
   "cell_type": "code",
   "execution_count": null,
   "metadata": {},
   "outputs": [
    {
     "name": "stdout",
     "output_type": "stream",
     "text": [
      "1     8000\n",
      "2     8000\n",
      "3     8000\n",
      "4     8000\n",
      "5     8000\n",
      "6     8000\n",
      "7     8000\n",
      "8     8000\n",
      "9     8000\n",
      "10    8000\n",
      "11    8000\n",
      "12    8000\n",
      "13    8000\n",
      "14    8000\n",
      "15    8000\n",
      "16    8000\n",
      "Name: personality, dtype: int64\n"
     ]
    }
   ],
   "source": [
    "df = df.groupby('personality', group_keys=False).apply(lambda x: x.head(8000))\n",
    "print(df['personality'].value_counts())"
   ]
  },
  {
   "cell_type": "markdown",
   "metadata": {},
   "source": [
    "## División del dataset en entrenamiento, validación y test"
   ]
  },
  {
   "cell_type": "markdown",
   "metadata": {},
   "source": [
    "60% entrenamiento, 20% validación y 20% test"
   ]
  },
  {
   "cell_type": "code",
   "execution_count": null,
   "metadata": {},
   "outputs": [
    {
     "name": "stdout",
     "output_type": "stream",
     "text": [
      "x_train: 76800\n",
      "x_test: 25600\n",
      "x_valid: 25600\n"
     ]
    }
   ],
   "source": [
    "from sklearn.model_selection import train_test_split\n",
    "\n",
    "x_train, x_test, y_train, y_test = train_test_split(df['processed_text'], df['personality'], test_size=0.4, random_state=42) \n",
    "x_valid, x_test, y_valid, y_test = train_test_split(x_test, y_test, test_size=0.5, random_state=42)\n",
    "\n",
    "print(f\"x_train: {len(x_train)}\")\n",
    "print(f\"x_test: {len(x_test)}\")\n",
    "print(f\"x_valid: {len(x_valid)}\")"
   ]
  },
  {
   "cell_type": "markdown",
   "metadata": {},
   "source": [
    "## Bag of Words"
   ]
  },
  {
   "cell_type": "code",
   "execution_count": null,
   "metadata": {},
   "outputs": [
    {
     "name": "stdout",
     "output_type": "stream",
     "text": [
      "x_train bag of words:\n",
      "(76800, 41890)\n"
     ]
    }
   ],
   "source": [
    "from sklearn.feature_extraction.text import TfidfVectorizer\n",
    "\n",
    "# Datos de entrenamiento\n",
    "bagOfWordsModel = TfidfVectorizer()\n",
    "x_train = bagOfWordsModel.fit_transform(x_train)\n",
    "print(\"x_train bag of words:\")\n",
    "print(x_train.shape)\n",
    "\n",
    "# Datos pruebas\n",
    "x_test = bagOfWordsModel.transform(x_test)\n",
    "print(\"x_test bag of words:\")\n",
    "print(x_test.shape)\n",
    "\n",
    "# Datos pruebas\n",
    "x_valid = bagOfWordsModel.transform(x_valid)\n",
    "print(\"x_valid bag of words:\")\n",
    "print(x_valid.shape)"
   ]
  },
  {
   "cell_type": "markdown",
   "metadata": {},
   "source": [
    "Como ya se ha aplicado el Bag of Words a todos los datos que vamos a usar se puede guardar en un fichero, que posteriormente usaremos para desplegar el modelo en el backend"
   ]
  },
  {
   "cell_type": "code",
   "execution_count": null,
   "metadata": {},
   "outputs": [],
   "source": [
    "import joblib as jb\n",
    "\n",
    "jb.dump(bagOfWordsModel, \"bow.lzma\")\n",
    "del bagOfWordsModel"
   ]
  },
  {
   "cell_type": "markdown",
   "metadata": {},
   "source": [
    "## Reducción de dimensionalidad"
   ]
  },
  {
   "cell_type": "code",
   "execution_count": null,
   "metadata": {},
   "outputs": [
    {
     "name": "stdout",
     "output_type": "stream",
     "text": [
      "(76800, 3000)\n"
     ]
    }
   ],
   "source": [
    "from sklearn.decomposition import TruncatedSVD\n",
    "\n",
    "svd = TruncatedSVD(n_components=3000, random_state=42)\n",
    "x_train = svd.fit_transform(x_train)\n",
    "\n",
    "print(x_train.shape)"
   ]
  },
  {
   "cell_type": "markdown",
   "metadata": {},
   "source": [
    "Se guarda la instancia de `svd` para usarla más tarde y se borra para ahorrar memoria"
   ]
  },
  {
   "cell_type": "code",
   "execution_count": null,
   "metadata": {},
   "outputs": [],
   "source": [
    "import joblib as jb\n",
    "\n",
    "jb.dump(svd, \"svd.lzma\")\n",
    "del svd"
   ]
  },
  {
   "cell_type": "markdown",
   "metadata": {},
   "source": [
    "# Entrenamiento\n"
   ]
  },
  {
   "cell_type": "markdown",
   "metadata": {},
   "source": [
    "## Selección de modelos \\[Tarda mucho en ejecutar igual mejor poner el otro notebook\\]\n",
    "\n",
    "En esta sección probaremos distintos modelos para ver cual tiene el mejor resultado con unos pocos parámetros, que luego usaremos para obtener sus hiperparámetros."
   ]
  },
  {
   "cell_type": "markdown",
   "metadata": {},
   "source": [
    "### Entrenamiento de distintos modelos"
   ]
  },
  {
   "cell_type": "code",
   "execution_count": null,
   "metadata": {},
   "outputs": [
    {
     "data": {
      "application/vnd.jupyter.widget-view+json": {
       "model_id": "bce6371936cd4d1da47087feeda673c2",
       "version_major": 2,
       "version_minor": 0
      },
      "text/plain": [
       "  0%|          | 0/4 [00:00<?, ?it/s]"
      ]
     },
     "metadata": {},
     "output_type": "display_data"
    }
   ],
   "source": [
    "from sklearn.svm import SVC\n",
    "from sklearn.ensemble import RandomForestClassifier, GradientBoostingClassifier, AdaBoostClassifier, HistGradientBoostingClassifier\n",
    "from tqdm.contrib.concurrent import process_map\n",
    "from multiprocessing import Manager\n",
    "from sklearn.metrics import classification_report, confusion_matrix\n",
    "from sklearn.model_selection import GridSearchCV\n",
    "\n",
    "clasificadores = (\n",
    "    (\n",
    "        \"SVC\",\n",
    "        SVC(), {\n",
    "            'C': (0.1, 1, 10, 100),\n",
    "            'kernel': ('linear', 'poly', 'rbf', 'sigmoid')\n",
    "        }\n",
    "    ),\n",
    "    (\n",
    "        'RandomForest',\n",
    "        RandomForestClassifier(),\n",
    "        {\n",
    "            'n_estimators': (100,150,200)\n",
    "        }\n",
    "    ),\n",
    "    (\n",
    "        'GradientBoosting',\n",
    "        GradientBoostingClassifier(),\n",
    "        {\n",
    "            'n_estimators': (100,150,200)\n",
    "        }\n",
    "    ),\n",
    "    (\n",
    "        'AdaBoost',\n",
    "        AdaBoostClassifier(),\n",
    "        {\n",
    "            'n_estimators': (100,150,200)\n",
    "        }\n",
    "    ),\n",
    "    (\n",
    "        'HistGradientBoosting',\n",
    "        HistGradientBoostingClassifier(),\n",
    "        {\n",
    "            'max_iter': (100,500,1000)\n",
    "        }\n",
    "    )\n",
    ")\n",
    "\n",
    "\n",
    "scores = Manager().list()\n",
    "\n",
    "def test_model(data):\n",
    "    model_name, model, params = data\n",
    "    gs = GridSearchCV(model, params, cv=5, scoring='accuracy')\n",
    "    gs.fit(x_train, y_train)\n",
    "\n",
    "    y_pred = gs.predict(x_valid)\n",
    "    report = classification_report(y_valid, y_pred, output_dict=True)\n",
    "    cm = confusion_matrix(y_valid, y_pred)\n",
    "\n",
    "    scores.append({\n",
    "        'modelo': model_name,\n",
    "        'params': gs.best_params_,\n",
    "        'score': gs.best_score_,\n",
    "        'confusion_matrix': cm,\n",
    "        'stats': {\n",
    "            'precision': report['weighted avg']['precision'],\n",
    "            'recall': report['weighted avg']['recall'],\n",
    "            'f1_score': report['weighted avg']['f1-score'],\n",
    "            'accuracy': report['accuracy']\n",
    "        }\n",
    "        })\n",
    "\n",
    "\n",
    "process_map(test_model, clasificadores, max_workers=1)\n",
    "print(scores)"
   ]
  },
  {
   "cell_type": "markdown",
   "metadata": {},
   "source": [
    "### Estudio de resultados"
   ]
  },
  {
   "cell_type": "code",
   "execution_count": null,
   "metadata": {},
   "outputs": [],
   "source": [
    "import matplotlib.pyplot as plt\n",
    "\n",
    "\n",
    "print([x['modelo'] for x in scores])\n",
    "\n",
    "plt.figure(figsize=(10, 6))\n",
    "\n",
    "# Obtener el modelo con el score más alto\n",
    "mejor_modelo = max(scores, key=lambda x: x['score'])\n",
    "\n",
    "bars = plt.bar([x['modelo'] for x in scores], [x['score'] for x in scores], color='skyblue')\n",
    "indice_mejor_modelo = [x['modelo'] for x in scores].index(mejor_modelo['modelo'])\n",
    "bars[indice_mejor_modelo].set_color('orange')\n",
    "\n",
    "plt.xlabel('Modelos')\n",
    "plt.ylabel('Scores')\n",
    "plt.title('Comparación de Scores entre Modelos', pad=50)\n",
    "plt.xticks(rotation=45, ha='right')\n",
    "plt.tight_layout()\n",
    "\n",
    "for i, score in enumerate([x['score'] for x in scores]):\n",
    "    if i != indice_mejor_modelo:\n",
    "        plt.text(i, score + 0.01, f'{score:.2f}', ha='center', va='bottom')\n",
    "\n",
    "# Agregar anotación para el score más alto\n",
    "plt.annotate(f\"Mejor score: {mejor_modelo['score']}\",\n",
    "             xy=(indice_mejor_modelo, mejor_modelo['score']),\n",
    "             xytext=(indice_mejor_modelo, mejor_modelo['score'] + 0.05),\n",
    "             ha='center', va='bottom',\n",
    "             arrowprops=dict(facecolor='black', arrowstyle='->'))\n",
    "\n",
    "# Ajustar los márgenes del gráfico\n",
    "plt.subplots_adjust(top=0.85, bottom=0.25)  # Puedes ajustar estos valores según tus necesidades\n",
    "\n",
    "plt.show()\n"
   ]
  },
  {
   "cell_type": "code",
   "execution_count": null,
   "metadata": {},
   "outputs": [],
   "source": [
    "import matplotlib.pyplot as plt\n",
    "\n",
    "\n",
    "print([x['stats']['f1_score']  for x in scores])\n",
    "\n",
    "plt.figure(figsize=(10, 6))\n",
    "\n",
    "# Obtener el modelo con el score más alto\n",
    "mejor_modelo = max(scores, key=lambda x: x['stats']['f1_score'] )\n",
    "\n",
    "bars = plt.bar([x['modelo'] for x in scores], [x['stats']['f1_score'] for x in scores], color='skyblue')\n",
    "indice_mejor_modelo = [x['modelo'] for x in scores].index(mejor_modelo['modelo'])\n",
    "bars[indice_mejor_modelo].set_color('orange')\n",
    "\n",
    "plt.xlabel('Modelos')\n",
    "plt.ylabel('F1 Score')\n",
    "plt.title('Comparación de F1 Scores entre Modelos', pad=50)\n",
    "plt.xticks(rotation=45, ha='right')\n",
    "plt.tight_layout()\n",
    "\n",
    "for i, score in enumerate([x['stats']['f1_score'] for x in scores]):\n",
    "    if i != indice_mejor_modelo:\n",
    "        plt.text(i, score + 0.01, f'{score:.2f}', ha='center', va='bottom')\n",
    "\n",
    "# Agregar anotación para el score más alto\n",
    "plt.annotate(f\"Mejor f1 score: {mejor_modelo['stats']['f1_score'] }\",\n",
    "             xy=(indice_mejor_modelo, mejor_modelo['stats']['f1_score'] ),\n",
    "             xytext=(indice_mejor_modelo, mejor_modelo['stats']['f1_score']  + 0.05),\n",
    "             ha='center', va='bottom',\n",
    "             arrowprops=dict(facecolor='black', arrowstyle='->'))\n",
    "\n",
    "# Ajustar los márgenes del gráfico\n",
    "plt.subplots_adjust(top=0.85, bottom=0.25)  # Puedes ajustar estos valores según tus necesidades\n",
    "\n",
    "plt.show()"
   ]
  },
  {
   "cell_type": "code",
   "execution_count": null,
   "metadata": {},
   "outputs": [],
   "source": [
    "import matplotlib.pyplot as plt\n",
    "\n",
    "\n",
    "print([x['stats']['recall']  for x in scores])\n",
    "\n",
    "plt.figure(figsize=(10, 6))\n",
    "\n",
    "# Obtener el modelo con el score más alto\n",
    "mejor_modelo = max(scores, key=lambda x: x['stats']['recall'] )\n",
    "\n",
    "bars = plt.bar([x['modelo'] for x in scores], [x['stats']['recall'] for x in scores], color='skyblue')\n",
    "indice_mejor_modelo = [x['modelo'] for x in scores].index(mejor_modelo['modelo'])\n",
    "bars[indice_mejor_modelo].set_color('orange')\n",
    "\n",
    "plt.xlabel('Modelos')\n",
    "plt.ylabel('Recall')\n",
    "plt.title('Comparación de Recall entre Modelos', pad=50)\n",
    "plt.xticks(rotation=45, ha='right')\n",
    "plt.tight_layout()\n",
    "\n",
    "for i, score in enumerate([x['stats']['recall'] for x in scores]):\n",
    "    if i != indice_mejor_modelo:\n",
    "        plt.text(i, score + 0.01, f'{score:.2f}', ha='center', va='bottom')\n",
    "\n",
    "# Agregar anotación para el score más alto\n",
    "plt.annotate(f\"Mejor recall: {mejor_modelo['stats']['recall'] }\",\n",
    "             xy=(indice_mejor_modelo, mejor_modelo['stats']['recall'] ),\n",
    "             xytext=(indice_mejor_modelo, mejor_modelo['stats']['recall']  + 0.05),\n",
    "             ha='center', va='bottom',\n",
    "             arrowprops=dict(facecolor='black', arrowstyle='->'))\n",
    "\n",
    "# Ajustar los márgenes del gráfico\n",
    "plt.subplots_adjust(top=0.85, bottom=0.25)  # Puedes ajustar estos valores según tus necesidades\n",
    "\n",
    "plt.show()"
   ]
  },
  {
   "cell_type": "code",
   "execution_count": null,
   "metadata": {},
   "outputs": [],
   "source": [
    "import matplotlib.pyplot as plt\n",
    "\n",
    "\n",
    "print([x['stats']['precision']  for x in scores])\n",
    "\n",
    "plt.figure(figsize=(10, 6))\n",
    "\n",
    "# Obtener el modelo con el score más alto\n",
    "mejor_modelo = max(scores, key=lambda x: x['stats']['precision'] )\n",
    "\n",
    "bars = plt.bar([x['modelo'] for x in scores], [x['stats']['precision'] for x in scores], color='skyblue')\n",
    "indice_mejor_modelo = [x['modelo'] for x in scores].index(mejor_modelo['modelo'])\n",
    "bars[indice_mejor_modelo].set_color('orange')\n",
    "\n",
    "plt.xlabel('Modelos')\n",
    "plt.ylabel('Precision')\n",
    "plt.title('Comparación de Precision entre Modelos', pad=50)\n",
    "plt.xticks(rotation=45, ha='right')\n",
    "plt.tight_layout()\n",
    "\n",
    "for i, score in enumerate([x['stats']['precision'] for x in scores]):\n",
    "    if i != indice_mejor_modelo:\n",
    "        plt.text(i, score + 0.01, f'{score:.2f}', ha='center', va='bottom')\n",
    "\n",
    "# Agregar anotación para el score más alto\n",
    "plt.annotate(f\"Mejor precisión: {mejor_modelo['stats']['precision'] }\",\n",
    "             xy=(indice_mejor_modelo, mejor_modelo['stats']['precision'] ),\n",
    "             xytext=(indice_mejor_modelo, mejor_modelo['stats']['precision']  + 0.05),\n",
    "             ha='center', va='bottom',\n",
    "             arrowprops=dict(facecolor='black', arrowstyle='->'))\n",
    "\n",
    "# Ajustar los márgenes del gráfico\n",
    "plt.subplots_adjust(top=0.85, bottom=0.25)  # Puedes ajustar estos valores según tus necesidades\n",
    "\n",
    "plt.show()"
   ]
  },
  {
   "cell_type": "markdown",
   "metadata": {},
   "source": [
    "### Matrices de confusión"
   ]
  },
  {
   "cell_type": "code",
   "execution_count": null,
   "metadata": {},
   "outputs": [],
   "source": [
    "from sklearn.metrics import ConfusionMatrixDisplay, confusion_matrix\n",
    "\n",
    "for i in scores:\n",
    "    disp = ConfusionMatrixDisplay(confusion_matrix=i['confusion_matrix'])\n",
    "    disp.plot()\n",
    "    plt.show()"
   ]
  },
  {
   "cell_type": "markdown",
   "metadata": {},
   "source": [
    "### Conclusiones\n",
    "\n",
    "Analizando los resultados podemos concluir que la mejor opción es `HistGradientBoostingClassifier`, que es muy usado cuando hay grandes cantidades de datos, como es nuestro caso. Entonces ahora buscaremos en cocreto conseguir los mejores parámetros para este modelo."
   ]
  },
  {
   "cell_type": "markdown",
   "metadata": {},
   "source": [
    "## Hiperparámetros\n",
    "\n",
    "Para obtener los mejores parámetros de entrenamiento se realizarán pruebas con distintos valores."
   ]
  },
  {
   "cell_type": "code",
   "execution_count": null,
   "metadata": {},
   "outputs": [],
   "source": [
    "from sklearn.ensemble import HistGradientBoostingClassifier\n",
    "from sklearn.model_selection import GridSearchCV\n",
    "\n",
    "param_grid = {\n",
    "    'learning_rate': [0.01, 0.1, 0.2],\n",
    "    'max_iter': [100, 200, 300, 500, 1000],\n",
    "    'max_depth': [3, 5, 7],\n",
    "    'max_leaf_nodes': [15, 31, 50]\n",
    "}\n",
    "\n",
    "model = HistGradientBoostingClassifier()\n",
    "grid_search = GridSearchCV(model, param_grid, cv=5, scoring='accuracy')\n",
    "grid_search.fit(x_train, y_train)\n",
    "\n",
    "best_params = grid_search.best_params_\n",
    "print(\"Mejores hiperparámetros:\", best_params)"
   ]
  },
  {
   "cell_type": "code",
   "execution_count": null,
   "metadata": {},
   "outputs": [],
   "source": [
    "svd = jb.load(\"svd.lzma\")\n",
    "x_test = svd.transform(x_test)"
   ]
  },
  {
   "cell_type": "code",
   "execution_count": null,
   "metadata": {},
   "outputs": [
    {
     "name": "stdout",
     "output_type": "stream",
     "text": [
      "              precision    recall  f1-score   support\n",
      "\n",
      "           1       0.53      0.03      0.05     15438\n",
      "           2       0.43      0.04      0.07     21132\n",
      "           3       0.16      0.33      0.22     52538\n",
      "           4       0.37      0.04      0.08     32186\n",
      "           5       0.46      0.03      0.05     17098\n",
      "           6       0.51      0.03      0.06     16255\n",
      "           7       0.16      0.69      0.26     59379\n",
      "           8       0.19      0.07      0.11     46630\n",
      "           9       0.51      0.04      0.07      5084\n",
      "          10       0.23      0.01      0.02      9922\n",
      "          11       0.32      0.03      0.06     34459\n",
      "          12       0.26      0.03      0.05     34699\n",
      "          13       0.48      0.04      0.08      4829\n",
      "          14       0.63      0.06      0.10      6326\n",
      "          15       0.43      0.03      0.06     26850\n",
      "          16       0.54      0.02      0.04     17175\n",
      "\n",
      "    accuracy                           0.17    400000\n",
      "   macro avg       0.39      0.10      0.09    400000\n",
      "weighted avg       0.31      0.17      0.12    400000\n",
      "\n"
     ]
    },
    {
     "data": {
      "image/png": "[encoded data removed]",
      "text/plain": [
       "<Figure size 640x480 with 2 Axes>"
      ]
     },
     "metadata": {},
     "output_type": "display_data"
    }
   ],
   "source": [
    "from sklearn.metrics import classification_report\n",
    "import matplotlib.pyplot as plt\n",
    "from sklearn.metrics import ConfusionMatrixDisplay\n",
    "\n",
    "model = grid_search.best_estimator_\n",
    "\n",
    "predictions = rfc.predict(x_test)\n",
    "print(classification_report(y_test,predictions))\n",
    "ConfusionMatrixDisplay.from_predictions(y_test,predictions,\n",
    "                                        include_values=False)\n",
    "plt.show()"
   ]
  },
  {
   "cell_type": "code",
   "execution_count": null,
   "metadata": {},
   "outputs": [],
   "source": [
    "import joblib as jb\n",
    "\n",
    "jb.dump(model, \"model.lzma\")"
   ]
  }
 ],
 "metadata": {
  "colab": {
   "provenance": []
  },
  "kernelspec": {
   "display_name": "Python 3 (ipykernel)",
   "language": "python",
   "name": "python3"
  },
  "language_info": {
   "codemirror_mode": {
    "name": "ipython",
    "version": 3
   },
   "file_extension": ".py",
   "mimetype": "text/x-python",
   "name": "python",
   "nbconvert_exporter": "python",
   "pygments_lexer": "ipython3",
   "version": "3.10.12"
  }
 },
 "nbformat": 4,
 "nbformat_minor": 4
}

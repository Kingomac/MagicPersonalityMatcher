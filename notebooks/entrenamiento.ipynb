{
 "cells": [
  {
   "cell_type": "markdown",
   "metadata": {
    "id": "2qdVVlOGGWNX"
   },
   "source": [
    "# Magic Personality Matcher\n",
    "\n",
    "Se busca predecir la personalidad del autor de un texto, es decir, se usa texto como entrada y la salida es una de las 16 personalidades de Myers-Briggs.\n",
    "\n",
    "Lo primero es cargar el dataset usando Pandas, este contiene solo dos columnas, personalidad y post que corresponden a la personalidad y el contenido de un post de X."
   ]
  },
  {
   "cell_type": "markdown",
   "metadata": {
    "id": "aGpqAmK4MHJl"
   },
   "source": [
    "Se crea una bolsa de palabras utilizando TfidVectorizer, que se basa en la frecuencia de las palabras para determinar su importancia."
   ]
  },
  {
   "cell_type": "code",
   "execution_count": 22,
   "metadata": {
    "colab": {
     "base_uri": "https://localhost:8080/",
     "height": 393
    },
    "executionInfo": {
     "elapsed": 11133,
     "status": "error",
     "timestamp": 1700934034177,
     "user": {
      "displayName": "Mario Vila Comesaña",
      "userId": "07961451402314205796"
     },
     "user_tz": 0
    },
    "id": "6pBvfR64OV9l",
    "outputId": "d6523f7a-8e67-45ce-861d-cd3fdeda0417"
   },
   "outputs": [],
   "source": [
    "import joblib as jb\n",
    "import numpy as np\n",
    "\n",
    "X_train = jb.load(\"train_textsBoW.lzma\")\n",
    "y_train = jb.load(\"y_train.lzma\")"
   ]
  },
  {
   "cell_type": "markdown",
   "metadata": {
    "id": "NwuBHXxeMLmZ"
   },
   "source": [
    "Para la clasificación usamos el modelo Random Forest Classifier, que explorando distintos notebooks en Kaggle resultó ser el más preciso frente a otros clasificadores."
   ]
  },
  {
   "cell_type": "code",
   "execution_count": 20,
   "metadata": {
    "colab": {
     "base_uri": "https://localhost:8080/",
     "height": 75
    },
    "executionInfo": {
     "elapsed": 2048785,
     "status": "ok",
     "timestamp": 1700931068033,
     "user": {
      "displayName": "Mario Vila Comesaña",
      "userId": "07961451402314205796"
     },
     "user_tz": 0
    },
    "id": "7IQYfpmwensE",
    "outputId": "8c66becb-d55a-4968-84da-05dbbe578969"
   },
   "outputs": [
    {
     "data": {
      "text/html": [
       "<style>#sk-container-id-1 {color: black;}#sk-container-id-1 pre{padding: 0;}#sk-container-id-1 div.sk-toggleable {background-color: white;}#sk-container-id-1 label.sk-toggleable__label {cursor: pointer;display: block;width: 100%;margin-bottom: 0;padding: 0.3em;box-sizing: border-box;text-align: center;}#sk-container-id-1 label.sk-toggleable__label-arrow:before {content: \"▸\";float: left;margin-right: 0.25em;color: #696969;}#sk-container-id-1 label.sk-toggleable__label-arrow:hover:before {color: black;}#sk-container-id-1 div.sk-estimator:hover label.sk-toggleable__label-arrow:before {color: black;}#sk-container-id-1 div.sk-toggleable__content {max-height: 0;max-width: 0;overflow: hidden;text-align: left;background-color: #f0f8ff;}#sk-container-id-1 div.sk-toggleable__content pre {margin: 0.2em;color: black;border-radius: 0.25em;background-color: #f0f8ff;}#sk-container-id-1 input.sk-toggleable__control:checked~div.sk-toggleable__content {max-height: 200px;max-width: 100%;overflow: auto;}#sk-container-id-1 input.sk-toggleable__control:checked~label.sk-toggleable__label-arrow:before {content: \"▾\";}#sk-container-id-1 div.sk-estimator input.sk-toggleable__control:checked~label.sk-toggleable__label {background-color: #d4ebff;}#sk-container-id-1 div.sk-label input.sk-toggleable__control:checked~label.sk-toggleable__label {background-color: #d4ebff;}#sk-container-id-1 input.sk-hidden--visually {border: 0;clip: rect(1px 1px 1px 1px);clip: rect(1px, 1px, 1px, 1px);height: 1px;margin: -1px;overflow: hidden;padding: 0;position: absolute;width: 1px;}#sk-container-id-1 div.sk-estimator {font-family: monospace;background-color: #f0f8ff;border: 1px dotted black;border-radius: 0.25em;box-sizing: border-box;margin-bottom: 0.5em;}#sk-container-id-1 div.sk-estimator:hover {background-color: #d4ebff;}#sk-container-id-1 div.sk-parallel-item::after {content: \"\";width: 100%;border-bottom: 1px solid gray;flex-grow: 1;}#sk-container-id-1 div.sk-label:hover label.sk-toggleable__label {background-color: #d4ebff;}#sk-container-id-1 div.sk-serial::before {content: \"\";position: absolute;border-left: 1px solid gray;box-sizing: border-box;top: 0;bottom: 0;left: 50%;z-index: 0;}#sk-container-id-1 div.sk-serial {display: flex;flex-direction: column;align-items: center;background-color: white;padding-right: 0.2em;padding-left: 0.2em;position: relative;}#sk-container-id-1 div.sk-item {position: relative;z-index: 1;}#sk-container-id-1 div.sk-parallel {display: flex;align-items: stretch;justify-content: center;background-color: white;position: relative;}#sk-container-id-1 div.sk-item::before, #sk-container-id-1 div.sk-parallel-item::before {content: \"\";position: absolute;border-left: 1px solid gray;box-sizing: border-box;top: 0;bottom: 0;left: 50%;z-index: -1;}#sk-container-id-1 div.sk-parallel-item {display: flex;flex-direction: column;z-index: 1;position: relative;background-color: white;}#sk-container-id-1 div.sk-parallel-item:first-child::after {align-self: flex-end;width: 50%;}#sk-container-id-1 div.sk-parallel-item:last-child::after {align-self: flex-start;width: 50%;}#sk-container-id-1 div.sk-parallel-item:only-child::after {width: 0;}#sk-container-id-1 div.sk-dashed-wrapped {border: 1px dashed gray;margin: 0 0.4em 0.5em 0.4em;box-sizing: border-box;padding-bottom: 0.4em;background-color: white;}#sk-container-id-1 div.sk-label label {font-family: monospace;font-weight: bold;display: inline-block;line-height: 1.2em;}#sk-container-id-1 div.sk-label-container {text-align: center;}#sk-container-id-1 div.sk-container {/* jupyter's `normalize.less` sets `[hidden] { display: none; }` but bootstrap.min.css set `[hidden] { display: none !important; }` so we also need the `!important` here to be able to override the default hidden behavior on the sphinx rendered scikit-learn.org. See: https://github.com/scikit-learn/scikit-learn/issues/21755 */display: inline-block !important;position: relative;}#sk-container-id-1 div.sk-text-repr-fallback {display: none;}</style><div id=\"sk-container-id-1\" class=\"sk-top-container\"><div class=\"sk-text-repr-fallback\"><pre>RandomForestClassifier(random_state=42)</pre><b>In a Jupyter environment, please rerun this cell to show the HTML representation or trust the notebook. <br />On GitHub, the HTML representation is unable to render, please try loading this page with nbviewer.org.</b></div><div class=\"sk-container\" hidden><div class=\"sk-item\"><div class=\"sk-estimator sk-toggleable\"><input class=\"sk-toggleable__control sk-hidden--visually\" id=\"sk-estimator-id-1\" type=\"checkbox\" checked><label for=\"sk-estimator-id-1\" class=\"sk-toggleable__label sk-toggleable__label-arrow\">RandomForestClassifier</label><div class=\"sk-toggleable__content\"><pre>RandomForestClassifier(random_state=42)</pre></div></div></div></div></div>"
      ],
      "text/plain": [
       "RandomForestClassifier(random_state=42)"
      ]
     },
     "execution_count": 20,
     "metadata": {},
     "output_type": "execute_result"
    }
   ],
   "source": [
    "from sklearn.ensemble import RandomForestClassifier\n",
    "\n",
    "svc = RandomForestClassifier(n_estimators=100, random_state=42)\n",
    "\n",
    "svc.fit(X_train, y_train)"
   ]
  },
  {
   "cell_type": "markdown",
   "metadata": {
    "id": "43jBsofqMMl6"
   },
   "source": [
    "\n",
    "Creamos un subconjunto de datos a partir de un DataFrame mas grande, en concreto, de las últimas 1000 filas del dataframe\n"
   ]
  },
  {
   "cell_type": "code",
   "execution_count": null,
   "metadata": {
    "id": "zskZ5xIefTcb"
   },
   "outputs": [],
   "source": [
    "test_textsBoW = joblib.load(\"/content/drive/MyDrive/Colab Notebooks/preprocesado/test_textsBoW.lzma\")\n",
    "y_test = joblib.load(\"/content/drive/MyDrive/Colab Notebooks/preprocesado/y_test.lzma\")"
   ]
  },
  {
   "cell_type": "markdown",
   "metadata": {
    "id": "1Y4T37LiMP-m"
   },
   "source": [
    "Realizamos algunas operaciones de preprocesamiento de texto en un conjunto de datos de prueba utilizando la librería NLTK"
   ]
  },
  {
   "cell_type": "markdown",
   "metadata": {
    "id": "dkpC9BAeMTzi"
   },
   "source": [
    "Aplicamos un modelo previamente creado para transformar datos de texto preprocesados  en un formato de Bolsa de Palabras"
   ]
  },
  {
   "cell_type": "markdown",
   "metadata": {
    "id": "1QLCD3fLMXAb"
   },
   "source": [
    "Utilizaremos un conjunto de datos de prueba llamado textsBowTest que contiene características como una bolsa de palabras\n"
   ]
  },
  {
   "cell_type": "code",
   "execution_count": null,
   "metadata": {
    "id": "EmtRh76Qh0kz"
   },
   "outputs": [],
   "source": [
    "predictions = svc.predict(test_textsBoW)"
   ]
  },
  {
   "cell_type": "markdown",
   "metadata": {
    "id": "czDwk3L6MYex"
   },
   "source": [
    "Utilizamos la funcion classification_report para generar un reporte de clasificación detallado en función de las predicciones realizadas por el modelo"
   ]
  },
  {
   "cell_type": "code",
   "execution_count": null,
   "metadata": {
    "colab": {
     "base_uri": "https://localhost:8080/"
    },
    "executionInfo": {
     "elapsed": 1534,
     "status": "ok",
     "timestamp": 1700934080294,
     "user": {
      "displayName": "Mario Vila Comesaña",
      "userId": "07961451402314205796"
     },
     "user_tz": 0
    },
    "id": "hdNkgN3ZiFoV",
    "outputId": "74152e71-ed5a-435e-ad25-d3d9d3900a09"
   },
   "outputs": [
    {
     "name": "stdout",
     "output_type": "stream",
     "text": [
      "              precision    recall  f1-score   support\n",
      "\n",
      "        ENFJ       1.00      0.03      0.06       449\n",
      "        ENFP       0.81      0.03      0.05      1549\n",
      "        ENTJ       0.88      0.04      0.08       682\n",
      "        ENTP       0.67      0.06      0.12      2563\n",
      "        ESFJ       1.00      0.04      0.08        74\n",
      "        ESFP       1.00      0.01      0.02       110\n",
      "        ESTJ       0.89      0.39      0.54       124\n",
      "        ESTP       0.97      0.40      0.56       460\n",
      "        INFJ       0.41      0.50      0.45      3488\n",
      "        INFP       0.39      0.29      0.33      2977\n",
      "        INTJ       0.38      0.52      0.44      4863\n",
      "        INTP       0.36      0.72      0.48      5438\n",
      "        ISFJ       1.00      0.01      0.02       227\n",
      "        ISFP       1.00      0.02      0.04       321\n",
      "        ISTJ       1.00      0.01      0.02       350\n",
      "        ISTP       1.00      0.02      0.04       836\n",
      "\n",
      "    accuracy                           0.39     24511\n",
      "   macro avg       0.80      0.19      0.21     24511\n",
      "weighted avg       0.53      0.39      0.33     24511\n",
      "\n"
     ]
    }
   ],
   "source": [
    "from sklearn.metrics import classification_report\n",
    "\n",
    "Y_test = y_test\n",
    "\n",
    "print(classification_report(Y_test,predictions))"
   ]
  },
  {
   "cell_type": "markdown",
   "metadata": {
    "id": "VOyc2LmHMZ5p"
   },
   "source": [
    "El código utiliza la librería joblib para guardar objetos de Python en archivos para su posterior carga y uso, en este caso se guardará el modelo"
   ]
  },
  {
   "cell_type": "code",
   "execution_count": null,
   "metadata": {
    "colab": {
     "base_uri": "https://localhost:8080/"
    },
    "executionInfo": {
     "elapsed": 932,
     "status": "ok",
     "timestamp": 1700422254997,
     "user": {
      "displayName": "Mario Vila Comesaña",
      "userId": "07961451402314205796"
     },
     "user_tz": -60
    },
    "id": "k4j6m5N1E1Cs",
    "outputId": "bac883e4-66d3-49c1-b0ac-925a587c80e3"
   },
   "outputs": [
    {
     "data": {
      "text/plain": [
       "['/content/drive/MyDrive/Colab Notebooks/svc.joblib']"
      ]
     },
     "execution_count": 49,
     "metadata": {},
     "output_type": "execute_result"
    }
   ],
   "source": [
    "from joblib import dump\n",
    "\n",
    "dump(svc, \"/content/drive/MyDrive/Colab Notebooks/svc.joblib\")"
   ]
  },
  {
   "cell_type": "code",
   "execution_count": 2,
   "metadata": {
    "executionInfo": {
     "elapsed": 1018,
     "status": "ok",
     "timestamp": 1701184251426,
     "user": {
      "displayName": "Mario Vila Comesaña",
      "userId": "07961451402314205796"
     },
     "user_tz": -60
    },
    "id": "dYwJcIMNebkT"
   },
   "outputs": [],
   "source": [
    "from joblib import load\n",
    "\n",
    "svc = load(\"/content/drive/MyDrive/Colab Notebooks/rfc1.joblib\")\n"
   ]
  }
 ],
 "metadata": {
  "colab": {
   "authorship_tag": "ABX9TyOsXwwDsTPCGW6Hl14Y2QHP",
   "mount_file_id": "1R34X1JjsuYPOF97OYTkAULXLgetRBZlF",
   "provenance": []
  },
  "kernelspec": {
   "display_name": "Python 3 (ipykernel)",
   "language": "python",
   "name": "python3"
  },
  "language_info": {
   "codemirror_mode": {
    "name": "ipython",
    "version": 3
   },
   "file_extension": ".py",
   "mimetype": "text/x-python",
   "name": "python",
   "nbconvert_exporter": "python",
   "pygments_lexer": "ipython3",
   "version": "3.10.12"
  }
 },
 "nbformat": 4,
 "nbformat_minor": 4
}

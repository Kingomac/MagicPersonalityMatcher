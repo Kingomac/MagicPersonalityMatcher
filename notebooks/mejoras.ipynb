{
 "cells": [
  {
   "cell_type": "markdown",
   "metadata": {},
   "source": [
    "# ¿Cómo mejorar el modelo?\n",
    "\n",
    "El resultado del modelo es bastante pobre, eso se debe a multiples factores:\n",
    "\n",
    "1. Aunque tenemos una gran cantidad de datos, llegando a más de 1M de entadas, por limitaciones de tiempo y de hardware no podemos pasar de 150k, ya que la reducción de dimensionalidad con `TruncatedSVD`, aunque es más eficiente en memoria que `PCA`, dependiendo del número de componentes especificados puede llenar rápidamente la RAM.\n",
    "2. La clasificación es compleja, usamos una clasificación en 16 tipos de personalidad, lo que requiere trabajar con más datos y dificulta bastante el conseguir buenos resultados para todos los tipos.\n",
    "3. Pocos datos de algunos tipos, pese a tener tantas entradas, hay ciertas personalidades de las que falta información y esta desigualdad provoca imprecisión."
   ]
  },
  {
   "cell_type": "markdown",
   "metadata": {},
   "source": [
    "## Primer escenario de mejora - Mejor hardware\n",
    "\n",
    "Un primer posible escenario para mejorar sería realizar un entrenamiento con hardware más potente, especialmente RAM, que permita incluir en la reducción de dimensionalidad más componentes, buscando así un valor óptimo, que según nuestras pruebas con muestras de datos pequeñas sería alrededor de 5000 componentes. Y un modelo con más datos podría realizar en general mejores predicciones."
   ]
  },
  {
   "cell_type": "markdown",
   "metadata": {},
   "source": [
    "## Segundo escenario de mejora - Cambio de enfoque\n",
    "\n",
    "El problema de clasificación de las personalidades usando Myers-Briggs se puede abordar tratando cada rasgo de personalidad (introvertido/extrovertido, sensible/intuitivo, sentimental/pensativo, juicioso/perceptivo) por separado, clasificando los textos de forma binaria entre estos rasgos y combinarlos para obtener la personalidad completa. Por tanto, el resultado sería la combinación de 4 modelos, cada uno especializado en clasificación binaria de uno de los rasgos.\n",
    "\n",
    "También podríamos optar por tratar esto como un problema de regresión, es decir, que cada rasgo de personalidad sea una variable continua. Por ejemplo, podríamos pensar en el rato introvertido/extrovertido como una variable continua con valores entre -1 y 1, en la que -1 signifique 100% introvertido y 1 100% extrovertido. El resultado serían 4 modelos de regresión encargados de determinar un número entre -1 y 1 entre los valores de un rasgo de personalidad. Esto se podría presentar al usuario como su personalidad de Myers-Briggs con el añadido de un porcentaje asociado a cada rasgo, siendo por ejemplo que, un usuario pueda ser 67% extrovertido, 80% intuitivo, 52% sentimental y 90% juicioso."
   ]
  }
 ],
 "metadata": {
  "language_info": {
   "name": "python"
  }
 },
 "nbformat": 4,
 "nbformat_minor": 2
}
